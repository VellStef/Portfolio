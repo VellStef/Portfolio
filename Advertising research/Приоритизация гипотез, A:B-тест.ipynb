{
 "cells": [
  {
   "cell_type": "markdown",
   "metadata": {},
   "source": [
    "# Приоритизация гипотез, A/B-тест"
   ]
  },
  {
   "cell_type": "markdown",
   "metadata": {},
   "source": [
    "Цель проекта - приоритизировать гипотезы, запустить A/B-тест и проанализировать его результаты "
   ]
  },
  {
   "cell_type": "markdown",
   "metadata": {},
   "source": [
    "Данные о гипотезах хранятся в файле `hypothesis.csv`:\n",
    "- `Hypothesis` — краткое описание гипотезы;\n",
    "- `Reach` — охват пользователей по 10-балльной шкале;\n",
    "- `Impact` — влияние на пользователей по 10-балльной шкале;\n",
    "- `Confidence` — уверенность в гипотезе по 10-балльной шкале;\n",
    "- `Efforts` — затраты ресурсов на проверку гипотезы по 10-балльной шкале;\n",
    "\n",
    "Данные о заказах хранятся в файле `orders.csv`:\n",
    "- `transactionId` — идентификатор заказа;\n",
    "- `visitorId` — идентификатор пользователя, совершившего заказ;\n",
    "- `date` — дата, когда был совершён заказ;\n",
    "- `revenue` — выручка заказа;\n",
    "- `group` — группа A/B-теста, в которую попал заказ.\n",
    "\n",
    "Данные о посетителях хранятся в файле `visitors.csv`:\n",
    "- `date` — дата;\n",
    "- `group` — группа A/B-теста;\n",
    "- `visitors` — количество пользователей в указанную дату в указанной группе A/B-теста\n"
   ]
  },
  {
   "cell_type": "code",
   "execution_count": 1,
   "metadata": {},
   "outputs": [],
   "source": [
    "import pandas as pd\n",
    "import datetime as dt\n",
    "import numpy as np\n",
    "import matplotlib.pyplot as plt\n",
    "from scipy import stats"
   ]
  },
  {
   "cell_type": "markdown",
   "metadata": {},
   "source": [
    "## Приоритизация гипотез"
   ]
  },
  {
   "cell_type": "code",
   "execution_count": 2,
   "metadata": {},
   "outputs": [
    {
     "data": {
      "text/html": [
       "<div>\n",
       "<style scoped>\n",
       "    .dataframe tbody tr th:only-of-type {\n",
       "        vertical-align: middle;\n",
       "    }\n",
       "\n",
       "    .dataframe tbody tr th {\n",
       "        vertical-align: top;\n",
       "    }\n",
       "\n",
       "    .dataframe thead th {\n",
       "        text-align: right;\n",
       "    }\n",
       "</style>\n",
       "<table border=\"1\" class=\"dataframe\">\n",
       "  <thead>\n",
       "    <tr style=\"text-align: right;\">\n",
       "      <th></th>\n",
       "      <th>Hypothesis</th>\n",
       "      <th>Reach</th>\n",
       "      <th>Impact</th>\n",
       "      <th>Confidence</th>\n",
       "      <th>Efforts</th>\n",
       "    </tr>\n",
       "  </thead>\n",
       "  <tbody>\n",
       "    <tr>\n",
       "      <th>0</th>\n",
       "      <td>Добавить два новых канала привлечения трафика, что позволит привлекать на 30% больше пользователей</td>\n",
       "      <td>3</td>\n",
       "      <td>10</td>\n",
       "      <td>8</td>\n",
       "      <td>6</td>\n",
       "    </tr>\n",
       "    <tr>\n",
       "      <th>1</th>\n",
       "      <td>Запустить собственную службу доставки, что сократит срок доставки заказов</td>\n",
       "      <td>2</td>\n",
       "      <td>5</td>\n",
       "      <td>4</td>\n",
       "      <td>10</td>\n",
       "    </tr>\n",
       "    <tr>\n",
       "      <th>2</th>\n",
       "      <td>Добавить блоки рекомендаций товаров на сайт интернет магазина, чтобы повысить конверсию и средний чек заказа</td>\n",
       "      <td>8</td>\n",
       "      <td>3</td>\n",
       "      <td>7</td>\n",
       "      <td>3</td>\n",
       "    </tr>\n",
       "    <tr>\n",
       "      <th>3</th>\n",
       "      <td>Изменить структура категорий, что увеличит конверсию, т.к. пользователи быстрее найдут нужный товар</td>\n",
       "      <td>8</td>\n",
       "      <td>3</td>\n",
       "      <td>3</td>\n",
       "      <td>8</td>\n",
       "    </tr>\n",
       "    <tr>\n",
       "      <th>4</th>\n",
       "      <td>Изменить цвет фона главной страницы, чтобы увеличить вовлеченность пользователей</td>\n",
       "      <td>3</td>\n",
       "      <td>1</td>\n",
       "      <td>1</td>\n",
       "      <td>1</td>\n",
       "    </tr>\n",
       "    <tr>\n",
       "      <th>5</th>\n",
       "      <td>Добавить страницу отзывов клиентов о магазине, что позволит увеличить количество заказов</td>\n",
       "      <td>3</td>\n",
       "      <td>2</td>\n",
       "      <td>2</td>\n",
       "      <td>3</td>\n",
       "    </tr>\n",
       "    <tr>\n",
       "      <th>6</th>\n",
       "      <td>Показать на главной странице баннеры с актуальными акциями и распродажами, чтобы увеличить конверсию</td>\n",
       "      <td>5</td>\n",
       "      <td>3</td>\n",
       "      <td>8</td>\n",
       "      <td>3</td>\n",
       "    </tr>\n",
       "    <tr>\n",
       "      <th>7</th>\n",
       "      <td>Добавить форму подписки на все основные страницы, чтобы собрать базу клиентов для email-рассылок</td>\n",
       "      <td>10</td>\n",
       "      <td>7</td>\n",
       "      <td>8</td>\n",
       "      <td>5</td>\n",
       "    </tr>\n",
       "    <tr>\n",
       "      <th>8</th>\n",
       "      <td>Запустить акцию, дающую скидку на товар в день рождения</td>\n",
       "      <td>1</td>\n",
       "      <td>9</td>\n",
       "      <td>9</td>\n",
       "      <td>5</td>\n",
       "    </tr>\n",
       "  </tbody>\n",
       "</table>\n",
       "</div>"
      ],
      "text/plain": [
       "                                                                                                     Hypothesis  \\\n",
       "0            Добавить два новых канала привлечения трафика, что позволит привлекать на 30% больше пользователей   \n",
       "1                                     Запустить собственную службу доставки, что сократит срок доставки заказов   \n",
       "2  Добавить блоки рекомендаций товаров на сайт интернет магазина, чтобы повысить конверсию и средний чек заказа   \n",
       "3           Изменить структура категорий, что увеличит конверсию, т.к. пользователи быстрее найдут нужный товар   \n",
       "4                              Изменить цвет фона главной страницы, чтобы увеличить вовлеченность пользователей   \n",
       "5                      Добавить страницу отзывов клиентов о магазине, что позволит увеличить количество заказов   \n",
       "6          Показать на главной странице баннеры с актуальными акциями и распродажами, чтобы увеличить конверсию   \n",
       "7              Добавить форму подписки на все основные страницы, чтобы собрать базу клиентов для email-рассылок   \n",
       "8                                                       Запустить акцию, дающую скидку на товар в день рождения   \n",
       "\n",
       "   Reach  Impact  Confidence  Efforts  \n",
       "0      3      10           8        6  \n",
       "1      2       5           4       10  \n",
       "2      8       3           7        3  \n",
       "3      8       3           3        8  \n",
       "4      3       1           1        1  \n",
       "5      3       2           2        3  \n",
       "6      5       3           8        3  \n",
       "7     10       7           8        5  \n",
       "8      1       9           9        5  "
      ]
     },
     "execution_count": 2,
     "metadata": {},
     "output_type": "execute_result"
    }
   ],
   "source": [
    "hypothesis = pd.read_csv('hypothesis.csv')\n",
    "pd.options.display.max_colwidth = 120\n",
    "hypothesis.head(10)"
   ]
  },
  {
   "cell_type": "code",
   "execution_count": 3,
   "metadata": {
    "scrolled": true
   },
   "outputs": [
    {
     "data": {
      "text/html": [
       "<div>\n",
       "<style scoped>\n",
       "    .dataframe tbody tr th:only-of-type {\n",
       "        vertical-align: middle;\n",
       "    }\n",
       "\n",
       "    .dataframe tbody tr th {\n",
       "        vertical-align: top;\n",
       "    }\n",
       "\n",
       "    .dataframe thead th {\n",
       "        text-align: right;\n",
       "    }\n",
       "</style>\n",
       "<table border=\"1\" class=\"dataframe\">\n",
       "  <thead>\n",
       "    <tr style=\"text-align: right;\">\n",
       "      <th></th>\n",
       "      <th>Hypothesis</th>\n",
       "      <th>Reach</th>\n",
       "      <th>Impact</th>\n",
       "      <th>Confidence</th>\n",
       "      <th>Efforts</th>\n",
       "      <th>ICE</th>\n",
       "    </tr>\n",
       "  </thead>\n",
       "  <tbody>\n",
       "    <tr>\n",
       "      <th>8</th>\n",
       "      <td>Запустить акцию, дающую скидку на товар в день рождения</td>\n",
       "      <td>1</td>\n",
       "      <td>9</td>\n",
       "      <td>9</td>\n",
       "      <td>5</td>\n",
       "      <td>16.20</td>\n",
       "    </tr>\n",
       "    <tr>\n",
       "      <th>0</th>\n",
       "      <td>Добавить два новых канала привлечения трафика, что позволит привлекать на 30% больше пользователей</td>\n",
       "      <td>3</td>\n",
       "      <td>10</td>\n",
       "      <td>8</td>\n",
       "      <td>6</td>\n",
       "      <td>13.33</td>\n",
       "    </tr>\n",
       "    <tr>\n",
       "      <th>7</th>\n",
       "      <td>Добавить форму подписки на все основные страницы, чтобы собрать базу клиентов для email-рассылок</td>\n",
       "      <td>10</td>\n",
       "      <td>7</td>\n",
       "      <td>8</td>\n",
       "      <td>5</td>\n",
       "      <td>11.20</td>\n",
       "    </tr>\n",
       "    <tr>\n",
       "      <th>6</th>\n",
       "      <td>Показать на главной странице баннеры с актуальными акциями и распродажами, чтобы увеличить конверсию</td>\n",
       "      <td>5</td>\n",
       "      <td>3</td>\n",
       "      <td>8</td>\n",
       "      <td>3</td>\n",
       "      <td>8.00</td>\n",
       "    </tr>\n",
       "    <tr>\n",
       "      <th>2</th>\n",
       "      <td>Добавить блоки рекомендаций товаров на сайт интернет магазина, чтобы повысить конверсию и средний чек заказа</td>\n",
       "      <td>8</td>\n",
       "      <td>3</td>\n",
       "      <td>7</td>\n",
       "      <td>3</td>\n",
       "      <td>7.00</td>\n",
       "    </tr>\n",
       "    <tr>\n",
       "      <th>1</th>\n",
       "      <td>Запустить собственную службу доставки, что сократит срок доставки заказов</td>\n",
       "      <td>2</td>\n",
       "      <td>5</td>\n",
       "      <td>4</td>\n",
       "      <td>10</td>\n",
       "      <td>2.00</td>\n",
       "    </tr>\n",
       "    <tr>\n",
       "      <th>5</th>\n",
       "      <td>Добавить страницу отзывов клиентов о магазине, что позволит увеличить количество заказов</td>\n",
       "      <td>3</td>\n",
       "      <td>2</td>\n",
       "      <td>2</td>\n",
       "      <td>3</td>\n",
       "      <td>1.33</td>\n",
       "    </tr>\n",
       "    <tr>\n",
       "      <th>3</th>\n",
       "      <td>Изменить структура категорий, что увеличит конверсию, т.к. пользователи быстрее найдут нужный товар</td>\n",
       "      <td>8</td>\n",
       "      <td>3</td>\n",
       "      <td>3</td>\n",
       "      <td>8</td>\n",
       "      <td>1.12</td>\n",
       "    </tr>\n",
       "    <tr>\n",
       "      <th>4</th>\n",
       "      <td>Изменить цвет фона главной страницы, чтобы увеличить вовлеченность пользователей</td>\n",
       "      <td>3</td>\n",
       "      <td>1</td>\n",
       "      <td>1</td>\n",
       "      <td>1</td>\n",
       "      <td>1.00</td>\n",
       "    </tr>\n",
       "  </tbody>\n",
       "</table>\n",
       "</div>"
      ],
      "text/plain": [
       "                                                                                                     Hypothesis  \\\n",
       "8                                                       Запустить акцию, дающую скидку на товар в день рождения   \n",
       "0            Добавить два новых канала привлечения трафика, что позволит привлекать на 30% больше пользователей   \n",
       "7              Добавить форму подписки на все основные страницы, чтобы собрать базу клиентов для email-рассылок   \n",
       "6          Показать на главной странице баннеры с актуальными акциями и распродажами, чтобы увеличить конверсию   \n",
       "2  Добавить блоки рекомендаций товаров на сайт интернет магазина, чтобы повысить конверсию и средний чек заказа   \n",
       "1                                     Запустить собственную службу доставки, что сократит срок доставки заказов   \n",
       "5                      Добавить страницу отзывов клиентов о магазине, что позволит увеличить количество заказов   \n",
       "3           Изменить структура категорий, что увеличит конверсию, т.к. пользователи быстрее найдут нужный товар   \n",
       "4                              Изменить цвет фона главной страницы, чтобы увеличить вовлеченность пользователей   \n",
       "\n",
       "   Reach  Impact  Confidence  Efforts    ICE  \n",
       "8      1       9           9        5  16.20  \n",
       "0      3      10           8        6  13.33  \n",
       "7     10       7           8        5  11.20  \n",
       "6      5       3           8        3   8.00  \n",
       "2      8       3           7        3   7.00  \n",
       "1      2       5           4       10   2.00  \n",
       "5      3       2           2        3   1.33  \n",
       "3      8       3           3        8   1.12  \n",
       "4      3       1           1        1   1.00  "
      ]
     },
     "execution_count": 3,
     "metadata": {},
     "output_type": "execute_result"
    }
   ],
   "source": [
    "hypothesis['ICE'] = round(hypothesis['Impact']*hypothesis['Confidence']/hypothesis['Efforts'],2)\n",
    "pd.options.display.max_colwidth = 120\n",
    "hypothesis.sort_values(by='ICE',ascending=False)"
   ]
  },
  {
   "cell_type": "markdown",
   "metadata": {},
   "source": [
    "Наиболее перспективными гипотезами по ICE являются 9,1,8"
   ]
  },
  {
   "cell_type": "code",
   "execution_count": 4,
   "metadata": {
    "scrolled": true
   },
   "outputs": [
    {
     "data": {
      "text/html": [
       "<div>\n",
       "<style scoped>\n",
       "    .dataframe tbody tr th:only-of-type {\n",
       "        vertical-align: middle;\n",
       "    }\n",
       "\n",
       "    .dataframe tbody tr th {\n",
       "        vertical-align: top;\n",
       "    }\n",
       "\n",
       "    .dataframe thead th {\n",
       "        text-align: right;\n",
       "    }\n",
       "</style>\n",
       "<table border=\"1\" class=\"dataframe\">\n",
       "  <thead>\n",
       "    <tr style=\"text-align: right;\">\n",
       "      <th></th>\n",
       "      <th>Hypothesis</th>\n",
       "      <th>Reach</th>\n",
       "      <th>Impact</th>\n",
       "      <th>Confidence</th>\n",
       "      <th>Efforts</th>\n",
       "      <th>ICE</th>\n",
       "      <th>RICE</th>\n",
       "    </tr>\n",
       "  </thead>\n",
       "  <tbody>\n",
       "    <tr>\n",
       "      <th>7</th>\n",
       "      <td>Добавить форму подписки на все основные страницы, чтобы собрать базу клиентов для email-рассылок</td>\n",
       "      <td>10</td>\n",
       "      <td>7</td>\n",
       "      <td>8</td>\n",
       "      <td>5</td>\n",
       "      <td>11.20</td>\n",
       "      <td>112.0</td>\n",
       "    </tr>\n",
       "    <tr>\n",
       "      <th>2</th>\n",
       "      <td>Добавить блоки рекомендаций товаров на сайт интернет магазина, чтобы повысить конверсию и средний чек заказа</td>\n",
       "      <td>8</td>\n",
       "      <td>3</td>\n",
       "      <td>7</td>\n",
       "      <td>3</td>\n",
       "      <td>7.00</td>\n",
       "      <td>56.0</td>\n",
       "    </tr>\n",
       "    <tr>\n",
       "      <th>0</th>\n",
       "      <td>Добавить два новых канала привлечения трафика, что позволит привлекать на 30% больше пользователей</td>\n",
       "      <td>3</td>\n",
       "      <td>10</td>\n",
       "      <td>8</td>\n",
       "      <td>6</td>\n",
       "      <td>13.33</td>\n",
       "      <td>40.0</td>\n",
       "    </tr>\n",
       "    <tr>\n",
       "      <th>6</th>\n",
       "      <td>Показать на главной странице баннеры с актуальными акциями и распродажами, чтобы увеличить конверсию</td>\n",
       "      <td>5</td>\n",
       "      <td>3</td>\n",
       "      <td>8</td>\n",
       "      <td>3</td>\n",
       "      <td>8.00</td>\n",
       "      <td>40.0</td>\n",
       "    </tr>\n",
       "    <tr>\n",
       "      <th>8</th>\n",
       "      <td>Запустить акцию, дающую скидку на товар в день рождения</td>\n",
       "      <td>1</td>\n",
       "      <td>9</td>\n",
       "      <td>9</td>\n",
       "      <td>5</td>\n",
       "      <td>16.20</td>\n",
       "      <td>16.2</td>\n",
       "    </tr>\n",
       "    <tr>\n",
       "      <th>3</th>\n",
       "      <td>Изменить структура категорий, что увеличит конверсию, т.к. пользователи быстрее найдут нужный товар</td>\n",
       "      <td>8</td>\n",
       "      <td>3</td>\n",
       "      <td>3</td>\n",
       "      <td>8</td>\n",
       "      <td>1.12</td>\n",
       "      <td>9.0</td>\n",
       "    </tr>\n",
       "    <tr>\n",
       "      <th>1</th>\n",
       "      <td>Запустить собственную службу доставки, что сократит срок доставки заказов</td>\n",
       "      <td>2</td>\n",
       "      <td>5</td>\n",
       "      <td>4</td>\n",
       "      <td>10</td>\n",
       "      <td>2.00</td>\n",
       "      <td>4.0</td>\n",
       "    </tr>\n",
       "    <tr>\n",
       "      <th>5</th>\n",
       "      <td>Добавить страницу отзывов клиентов о магазине, что позволит увеличить количество заказов</td>\n",
       "      <td>3</td>\n",
       "      <td>2</td>\n",
       "      <td>2</td>\n",
       "      <td>3</td>\n",
       "      <td>1.33</td>\n",
       "      <td>4.0</td>\n",
       "    </tr>\n",
       "    <tr>\n",
       "      <th>4</th>\n",
       "      <td>Изменить цвет фона главной страницы, чтобы увеличить вовлеченность пользователей</td>\n",
       "      <td>3</td>\n",
       "      <td>1</td>\n",
       "      <td>1</td>\n",
       "      <td>1</td>\n",
       "      <td>1.00</td>\n",
       "      <td>3.0</td>\n",
       "    </tr>\n",
       "  </tbody>\n",
       "</table>\n",
       "</div>"
      ],
      "text/plain": [
       "                                                                                                     Hypothesis  \\\n",
       "7              Добавить форму подписки на все основные страницы, чтобы собрать базу клиентов для email-рассылок   \n",
       "2  Добавить блоки рекомендаций товаров на сайт интернет магазина, чтобы повысить конверсию и средний чек заказа   \n",
       "0            Добавить два новых канала привлечения трафика, что позволит привлекать на 30% больше пользователей   \n",
       "6          Показать на главной странице баннеры с актуальными акциями и распродажами, чтобы увеличить конверсию   \n",
       "8                                                       Запустить акцию, дающую скидку на товар в день рождения   \n",
       "3           Изменить структура категорий, что увеличит конверсию, т.к. пользователи быстрее найдут нужный товар   \n",
       "1                                     Запустить собственную службу доставки, что сократит срок доставки заказов   \n",
       "5                      Добавить страницу отзывов клиентов о магазине, что позволит увеличить количество заказов   \n",
       "4                              Изменить цвет фона главной страницы, чтобы увеличить вовлеченность пользователей   \n",
       "\n",
       "   Reach  Impact  Confidence  Efforts    ICE   RICE  \n",
       "7     10       7           8        5  11.20  112.0  \n",
       "2      8       3           7        3   7.00   56.0  \n",
       "0      3      10           8        6  13.33   40.0  \n",
       "6      5       3           8        3   8.00   40.0  \n",
       "8      1       9           9        5  16.20   16.2  \n",
       "3      8       3           3        8   1.12    9.0  \n",
       "1      2       5           4       10   2.00    4.0  \n",
       "5      3       2           2        3   1.33    4.0  \n",
       "4      3       1           1        1   1.00    3.0  "
      ]
     },
     "execution_count": 4,
     "metadata": {},
     "output_type": "execute_result"
    }
   ],
   "source": [
    "hypothesis['RICE'] = round(hypothesis['Reach']*hypothesis['Impact']*hypothesis['Confidence']/hypothesis['Efforts'],2)\n",
    "pd.options.display.max_colwidth = 120\n",
    "hypothesis.sort_values(by='RICE',ascending=False)\n"
   ]
  },
  {
   "cell_type": "code",
   "execution_count": 46,
   "metadata": {},
   "outputs": [
    {
     "data": {
      "text/html": [
       "<div>\n",
       "<style scoped>\n",
       "    .dataframe tbody tr th:only-of-type {\n",
       "        vertical-align: middle;\n",
       "    }\n",
       "\n",
       "    .dataframe tbody tr th {\n",
       "        vertical-align: top;\n",
       "    }\n",
       "\n",
       "    .dataframe thead th {\n",
       "        text-align: right;\n",
       "    }\n",
       "</style>\n",
       "<table border=\"1\" class=\"dataframe\">\n",
       "  <thead>\n",
       "    <tr style=\"text-align: right;\">\n",
       "      <th></th>\n",
       "      <th>Hypothesis</th>\n",
       "      <th>Reach</th>\n",
       "      <th>Impact</th>\n",
       "      <th>Confidence</th>\n",
       "      <th>Efforts</th>\n",
       "      <th>ICE</th>\n",
       "      <th>RICE</th>\n",
       "      <th>ICE_rank</th>\n",
       "      <th>RICE_rank</th>\n",
       "    </tr>\n",
       "  </thead>\n",
       "  <tbody>\n",
       "    <tr>\n",
       "      <th>7</th>\n",
       "      <td>Добавить форму подписки на все основные страницы, чтобы собрать базу клиентов для email-рассылок</td>\n",
       "      <td>10</td>\n",
       "      <td>7</td>\n",
       "      <td>8</td>\n",
       "      <td>5</td>\n",
       "      <td>11.20</td>\n",
       "      <td>112.0</td>\n",
       "      <td>7.0</td>\n",
       "      <td>9.0</td>\n",
       "    </tr>\n",
       "    <tr>\n",
       "      <th>2</th>\n",
       "      <td>Добавить блоки рекомендаций товаров на сайт интернет магазина, чтобы повысить конверсию и средний чек заказа</td>\n",
       "      <td>8</td>\n",
       "      <td>3</td>\n",
       "      <td>7</td>\n",
       "      <td>3</td>\n",
       "      <td>7.00</td>\n",
       "      <td>56.0</td>\n",
       "      <td>5.0</td>\n",
       "      <td>8.0</td>\n",
       "    </tr>\n",
       "    <tr>\n",
       "      <th>0</th>\n",
       "      <td>Добавить два новых канала привлечения трафика, что позволит привлекать на 30% больше пользователей</td>\n",
       "      <td>3</td>\n",
       "      <td>10</td>\n",
       "      <td>8</td>\n",
       "      <td>6</td>\n",
       "      <td>13.33</td>\n",
       "      <td>40.0</td>\n",
       "      <td>8.0</td>\n",
       "      <td>6.5</td>\n",
       "    </tr>\n",
       "    <tr>\n",
       "      <th>6</th>\n",
       "      <td>Показать на главной странице баннеры с актуальными акциями и распродажами, чтобы увеличить конверсию</td>\n",
       "      <td>5</td>\n",
       "      <td>3</td>\n",
       "      <td>8</td>\n",
       "      <td>3</td>\n",
       "      <td>8.00</td>\n",
       "      <td>40.0</td>\n",
       "      <td>6.0</td>\n",
       "      <td>6.5</td>\n",
       "    </tr>\n",
       "    <tr>\n",
       "      <th>8</th>\n",
       "      <td>Запустить акцию, дающую скидку на товар в день рождения</td>\n",
       "      <td>1</td>\n",
       "      <td>9</td>\n",
       "      <td>9</td>\n",
       "      <td>5</td>\n",
       "      <td>16.20</td>\n",
       "      <td>16.2</td>\n",
       "      <td>9.0</td>\n",
       "      <td>5.0</td>\n",
       "    </tr>\n",
       "    <tr>\n",
       "      <th>3</th>\n",
       "      <td>Изменить структура категорий, что увеличит конверсию, т.к. пользователи быстрее найдут нужный товар</td>\n",
       "      <td>8</td>\n",
       "      <td>3</td>\n",
       "      <td>3</td>\n",
       "      <td>8</td>\n",
       "      <td>1.12</td>\n",
       "      <td>9.0</td>\n",
       "      <td>2.0</td>\n",
       "      <td>4.0</td>\n",
       "    </tr>\n",
       "    <tr>\n",
       "      <th>1</th>\n",
       "      <td>Запустить собственную службу доставки, что сократит срок доставки заказов</td>\n",
       "      <td>2</td>\n",
       "      <td>5</td>\n",
       "      <td>4</td>\n",
       "      <td>10</td>\n",
       "      <td>2.00</td>\n",
       "      <td>4.0</td>\n",
       "      <td>4.0</td>\n",
       "      <td>2.5</td>\n",
       "    </tr>\n",
       "    <tr>\n",
       "      <th>5</th>\n",
       "      <td>Добавить страницу отзывов клиентов о магазине, что позволит увеличить количество заказов</td>\n",
       "      <td>3</td>\n",
       "      <td>2</td>\n",
       "      <td>2</td>\n",
       "      <td>3</td>\n",
       "      <td>1.33</td>\n",
       "      <td>4.0</td>\n",
       "      <td>3.0</td>\n",
       "      <td>2.5</td>\n",
       "    </tr>\n",
       "    <tr>\n",
       "      <th>4</th>\n",
       "      <td>Изменить цвет фона главной страницы, чтобы увеличить вовлеченность пользователей</td>\n",
       "      <td>3</td>\n",
       "      <td>1</td>\n",
       "      <td>1</td>\n",
       "      <td>1</td>\n",
       "      <td>1.00</td>\n",
       "      <td>3.0</td>\n",
       "      <td>1.0</td>\n",
       "      <td>1.0</td>\n",
       "    </tr>\n",
       "  </tbody>\n",
       "</table>\n",
       "</div>"
      ],
      "text/plain": [
       "                                                                                                     Hypothesis  \\\n",
       "7              Добавить форму подписки на все основные страницы, чтобы собрать базу клиентов для email-рассылок   \n",
       "2  Добавить блоки рекомендаций товаров на сайт интернет магазина, чтобы повысить конверсию и средний чек заказа   \n",
       "0            Добавить два новых канала привлечения трафика, что позволит привлекать на 30% больше пользователей   \n",
       "6          Показать на главной странице баннеры с актуальными акциями и распродажами, чтобы увеличить конверсию   \n",
       "8                                                       Запустить акцию, дающую скидку на товар в день рождения   \n",
       "3           Изменить структура категорий, что увеличит конверсию, т.к. пользователи быстрее найдут нужный товар   \n",
       "1                                     Запустить собственную службу доставки, что сократит срок доставки заказов   \n",
       "5                      Добавить страницу отзывов клиентов о магазине, что позволит увеличить количество заказов   \n",
       "4                              Изменить цвет фона главной страницы, чтобы увеличить вовлеченность пользователей   \n",
       "\n",
       "   Reach  Impact  Confidence  Efforts    ICE   RICE  ICE_rank  RICE_rank  \n",
       "7     10       7           8        5  11.20  112.0       7.0        9.0  \n",
       "2      8       3           7        3   7.00   56.0       5.0        8.0  \n",
       "0      3      10           8        6  13.33   40.0       8.0        6.5  \n",
       "6      5       3           8        3   8.00   40.0       6.0        6.5  \n",
       "8      1       9           9        5  16.20   16.2       9.0        5.0  \n",
       "3      8       3           3        8   1.12    9.0       2.0        4.0  \n",
       "1      2       5           4       10   2.00    4.0       4.0        2.5  \n",
       "5      3       2           2        3   1.33    4.0       3.0        2.5  \n",
       "4      3       1           1        1   1.00    3.0       1.0        1.0  "
      ]
     },
     "execution_count": 46,
     "metadata": {},
     "output_type": "execute_result"
    }
   ],
   "source": [
    "hypothesis['ICE_rank'] = hypothesis['ICE'].rank()\n",
    "hypothesis['RICE_rank'] = hypothesis['RICE'].rank()\n",
    "hypothesis.sort_values(by=['RICE_rank','ICE_rank'],ascending=False)"
   ]
  },
  {
   "cell_type": "markdown",
   "metadata": {},
   "source": [
    "Наиболее перспективными гипотезами по RICE являются 8,3 и 1 гипотезы. Гипотеза под номером 9 переместилась на 5 место,так как параметр Reach(охват) у нее равен всего 1. В то же время гипотеза 8 `(Добавить форму подписки на все основные страницы, чтобы собрать базу клиентов для email-рассылок)` вырвалась на первое место, ввиду высоко оцененного параментра Reach - 10. Наименее перспективной гипотезой как по ICE, так и по RICE является гипотеза под номером 5. "
   ]
  },
  {
   "cell_type": "markdown",
   "metadata": {},
   "source": [
    "## A/B-тест"
   ]
  },
  {
   "cell_type": "markdown",
   "metadata": {},
   "source": [
    "### Графики кумулятивных метрих"
   ]
  },
  {
   "cell_type": "code",
   "execution_count": 6,
   "metadata": {},
   "outputs": [],
   "source": [
    "orders = pd.read_csv('visitors.csv')\n",
    "visitors = pd.read_csv('orders.csv')\n"
   ]
  },
  {
   "cell_type": "code",
   "execution_count": 7,
   "metadata": {},
   "outputs": [
    {
     "name": "stdout",
     "output_type": "stream",
     "text": [
      "<class 'pandas.core.frame.DataFrame'>\n",
      "RangeIndex: 1197 entries, 0 to 1196\n",
      "Data columns (total 5 columns):\n",
      " #   Column         Non-Null Count  Dtype \n",
      "---  ------         --------------  ----- \n",
      " 0   transactionId  1197 non-null   int64 \n",
      " 1   visitorId      1197 non-null   int64 \n",
      " 2   date           1197 non-null   object\n",
      " 3   revenue        1197 non-null   int64 \n",
      " 4   group          1197 non-null   object\n",
      "dtypes: int64(3), object(2)\n",
      "memory usage: 46.9+ KB\n"
     ]
    }
   ],
   "source": [
    "orders.info()\n"
   ]
  },
  {
   "cell_type": "code",
   "execution_count": 8,
   "metadata": {
    "scrolled": true
   },
   "outputs": [
    {
     "name": "stdout",
     "output_type": "stream",
     "text": [
      "<class 'pandas.core.frame.DataFrame'>\n",
      "RangeIndex: 62 entries, 0 to 61\n",
      "Data columns (total 3 columns):\n",
      " #   Column    Non-Null Count  Dtype \n",
      "---  ------    --------------  ----- \n",
      " 0   date      62 non-null     object\n",
      " 1   group     62 non-null     object\n",
      " 2   visitors  62 non-null     int64 \n",
      "dtypes: int64(1), object(2)\n",
      "memory usage: 1.6+ KB\n"
     ]
    }
   ],
   "source": [
    "visitors.info()"
   ]
  },
  {
   "cell_type": "code",
   "execution_count": 9,
   "metadata": {},
   "outputs": [],
   "source": [
    "# изменим тип данных в столбце date\n",
    "orders['date'] = orders['date'].map(lambda x: dt.datetime.strptime(x,'%Y-%m-%d'))\n",
    "visitors['date'] = visitors['date'].map(lambda x: dt.datetime.strptime(x,'%Y-%m-%d'))"
   ]
  },
  {
   "cell_type": "code",
   "execution_count": 10,
   "metadata": {},
   "outputs": [
    {
     "data": {
      "text/plain": [
       "0"
      ]
     },
     "execution_count": 10,
     "metadata": {},
     "output_type": "execute_result"
    }
   ],
   "source": [
    "orders.duplicated().sum()"
   ]
  },
  {
   "cell_type": "code",
   "execution_count": 11,
   "metadata": {
    "scrolled": true
   },
   "outputs": [
    {
     "data": {
      "text/plain": [
       "0"
      ]
     },
     "execution_count": 11,
     "metadata": {},
     "output_type": "execute_result"
    }
   ],
   "source": [
    "visitors.duplicated().sum()"
   ]
  },
  {
   "cell_type": "markdown",
   "metadata": {},
   "source": [
    "Полные дубликаты в данных отсутствуют"
   ]
  },
  {
   "cell_type": "code",
   "execution_count": 12,
   "metadata": {
    "scrolled": true
   },
   "outputs": [
    {
     "data": {
      "text/plain": [
       "array(['B', 'A'], dtype=object)"
      ]
     },
     "execution_count": 12,
     "metadata": {},
     "output_type": "execute_result"
    }
   ],
   "source": [
    "orders['group'].unique()"
   ]
  },
  {
   "cell_type": "markdown",
   "metadata": {},
   "source": [
    "Всего в тесте две группы: А и В"
   ]
  },
  {
   "cell_type": "code",
   "execution_count": 13,
   "metadata": {
    "scrolled": false
   },
   "outputs": [
    {
     "name": "stdout",
     "output_type": "stream",
     "text": [
      "Дата начала теста 2019-08-01 00:00:00\n",
      "Дата окончания теста 2019-08-31 00:00:00\n"
     ]
    }
   ],
   "source": [
    "print('Дата начала теста {}'.format(orders['date'].min()))\n",
    "print('Дата окончания теста {}'.format(orders['date'].max()))"
   ]
  },
  {
   "cell_type": "code",
   "execution_count": 14,
   "metadata": {},
   "outputs": [
    {
     "data": {
      "text/html": [
       "<div>\n",
       "<style scoped>\n",
       "    .dataframe tbody tr th:only-of-type {\n",
       "        vertical-align: middle;\n",
       "    }\n",
       "\n",
       "    .dataframe tbody tr th {\n",
       "        vertical-align: top;\n",
       "    }\n",
       "\n",
       "    .dataframe thead th {\n",
       "        text-align: right;\n",
       "    }\n",
       "</style>\n",
       "<table border=\"1\" class=\"dataframe\">\n",
       "  <thead>\n",
       "    <tr style=\"text-align: right;\">\n",
       "      <th></th>\n",
       "      <th>visitorId</th>\n",
       "    </tr>\n",
       "    <tr>\n",
       "      <th>group</th>\n",
       "      <th></th>\n",
       "    </tr>\n",
       "  </thead>\n",
       "  <tbody>\n",
       "    <tr>\n",
       "      <th>A</th>\n",
       "      <td>503</td>\n",
       "    </tr>\n",
       "    <tr>\n",
       "      <th>B</th>\n",
       "      <td>586</td>\n",
       "    </tr>\n",
       "  </tbody>\n",
       "</table>\n",
       "</div>"
      ],
      "text/plain": [
       "       visitorId\n",
       "group           \n",
       "A            503\n",
       "B            586"
      ]
     },
     "execution_count": 14,
     "metadata": {},
     "output_type": "execute_result"
    }
   ],
   "source": [
    "orders.groupby('group').agg({'visitorId':'nunique'})"
   ]
  },
  {
   "cell_type": "markdown",
   "metadata": {},
   "source": [
    "В группе А 503 пользователей, а в группе В - 586 пользователей"
   ]
  },
  {
   "cell_type": "code",
   "execution_count": 15,
   "metadata": {},
   "outputs": [
    {
     "data": {
      "text/plain": [
       "0"
      ]
     },
     "execution_count": 15,
     "metadata": {},
     "output_type": "execute_result"
    }
   ],
   "source": [
    "orders['transactionId'].duplicated().sum()"
   ]
  },
  {
   "cell_type": "markdown",
   "metadata": {},
   "source": [
    "Дубликаты по идентификатору заказа также отсутствуют. Проверим не попал ли пользователь в обе группы "
   ]
  },
  {
   "cell_type": "code",
   "execution_count": 16,
   "metadata": {},
   "outputs": [
    {
     "data": {
      "text/plain": [
       "58"
      ]
     },
     "execution_count": 16,
     "metadata": {},
     "output_type": "execute_result"
    }
   ],
   "source": [
    "visitorsInTwoGroups = orders[(orders['visitorId'].duplicated() == True) & (orders[['visitorId','group']]\n",
    "                                                     .duplicated() == False)]['visitorId']\n",
    "len(visitorsInTwoGroups)"
   ]
  },
  {
   "cell_type": "code",
   "execution_count": 17,
   "metadata": {},
   "outputs": [
    {
     "data": {
      "text/html": [
       "<div>\n",
       "<style scoped>\n",
       "    .dataframe tbody tr th:only-of-type {\n",
       "        vertical-align: middle;\n",
       "    }\n",
       "\n",
       "    .dataframe tbody tr th {\n",
       "        vertical-align: top;\n",
       "    }\n",
       "\n",
       "    .dataframe thead th {\n",
       "        text-align: right;\n",
       "    }\n",
       "</style>\n",
       "<table border=\"1\" class=\"dataframe\">\n",
       "  <thead>\n",
       "    <tr style=\"text-align: right;\">\n",
       "      <th></th>\n",
       "      <th>transactionId</th>\n",
       "      <th>visitorId</th>\n",
       "      <th>date</th>\n",
       "      <th>revenue</th>\n",
       "      <th>group</th>\n",
       "    </tr>\n",
       "  </thead>\n",
       "  <tbody>\n",
       "    <tr>\n",
       "      <th>703</th>\n",
       "      <td>4293855558</td>\n",
       "      <td>8300375</td>\n",
       "      <td>2019-08-07</td>\n",
       "      <td>1790</td>\n",
       "      <td>A</td>\n",
       "    </tr>\n",
       "    <tr>\n",
       "      <th>71</th>\n",
       "      <td>3679129301</td>\n",
       "      <td>8300375</td>\n",
       "      <td>2019-08-01</td>\n",
       "      <td>10510</td>\n",
       "      <td>B</td>\n",
       "    </tr>\n",
       "    <tr>\n",
       "      <th>823</th>\n",
       "      <td>2971973105</td>\n",
       "      <td>199603092</td>\n",
       "      <td>2019-08-27</td>\n",
       "      <td>2790</td>\n",
       "      <td>A</td>\n",
       "    </tr>\n",
       "    <tr>\n",
       "      <th>246</th>\n",
       "      <td>437656952</td>\n",
       "      <td>199603092</td>\n",
       "      <td>2019-08-02</td>\n",
       "      <td>3488</td>\n",
       "      <td>B</td>\n",
       "    </tr>\n",
       "    <tr>\n",
       "      <th>26</th>\n",
       "      <td>2223239646</td>\n",
       "      <td>199603092</td>\n",
       "      <td>2019-08-15</td>\n",
       "      <td>3488</td>\n",
       "      <td>A</td>\n",
       "    </tr>\n",
       "    <tr>\n",
       "      <th>...</th>\n",
       "      <td>...</td>\n",
       "      <td>...</td>\n",
       "      <td>...</td>\n",
       "      <td>...</td>\n",
       "      <td>...</td>\n",
       "    </tr>\n",
       "    <tr>\n",
       "      <th>187</th>\n",
       "      <td>2048878902</td>\n",
       "      <td>4256040402</td>\n",
       "      <td>2019-08-17</td>\n",
       "      <td>1550</td>\n",
       "      <td>A</td>\n",
       "    </tr>\n",
       "    <tr>\n",
       "      <th>114</th>\n",
       "      <td>1120327437</td>\n",
       "      <td>4256040402</td>\n",
       "      <td>2019-08-01</td>\n",
       "      <td>5800</td>\n",
       "      <td>A</td>\n",
       "    </tr>\n",
       "    <tr>\n",
       "      <th>60</th>\n",
       "      <td>1421016313</td>\n",
       "      <td>4256040402</td>\n",
       "      <td>2019-08-16</td>\n",
       "      <td>56650</td>\n",
       "      <td>B</td>\n",
       "    </tr>\n",
       "    <tr>\n",
       "      <th>662</th>\n",
       "      <td>1811671147</td>\n",
       "      <td>4266935830</td>\n",
       "      <td>2019-08-29</td>\n",
       "      <td>78990</td>\n",
       "      <td>A</td>\n",
       "    </tr>\n",
       "    <tr>\n",
       "      <th>682</th>\n",
       "      <td>1216533772</td>\n",
       "      <td>4266935830</td>\n",
       "      <td>2019-08-29</td>\n",
       "      <td>78990</td>\n",
       "      <td>B</td>\n",
       "    </tr>\n",
       "  </tbody>\n",
       "</table>\n",
       "<p>181 rows × 5 columns</p>\n",
       "</div>"
      ],
      "text/plain": [
       "     transactionId   visitorId       date  revenue group\n",
       "703     4293855558     8300375 2019-08-07     1790     A\n",
       "71      3679129301     8300375 2019-08-01    10510     B\n",
       "823     2971973105   199603092 2019-08-27     2790     A\n",
       "246      437656952   199603092 2019-08-02     3488     B\n",
       "26      2223239646   199603092 2019-08-15     3488     A\n",
       "..             ...         ...        ...      ...   ...\n",
       "187     2048878902  4256040402 2019-08-17     1550     A\n",
       "114     1120327437  4256040402 2019-08-01     5800     A\n",
       "60      1421016313  4256040402 2019-08-16    56650     B\n",
       "662     1811671147  4266935830 2019-08-29    78990     A\n",
       "682     1216533772  4266935830 2019-08-29    78990     B\n",
       "\n",
       "[181 rows x 5 columns]"
      ]
     },
     "execution_count": 17,
     "metadata": {},
     "output_type": "execute_result"
    }
   ],
   "source": [
    "orders[orders['visitorId'].isin(visitorsInTwoGroups) == True].sort_values(by='visitorId')"
   ]
  },
  {
   "cell_type": "markdown",
   "metadata": {},
   "source": [
    "Существуют пользователи, которые попали сразу и в группу А и в группу В, их 58 человек. Стоит убрать их из анализа, так как скорее всего это ошибка при составлении данных. "
   ]
  },
  {
   "cell_type": "code",
   "execution_count": 18,
   "metadata": {
    "scrolled": true
   },
   "outputs": [],
   "source": [
    "orders = orders[orders['visitorId'].isin(visitorsInTwoGroups) == False]\n"
   ]
  },
  {
   "cell_type": "code",
   "execution_count": 19,
   "metadata": {},
   "outputs": [
    {
     "data": {
      "text/html": [
       "<div>\n",
       "<style scoped>\n",
       "    .dataframe tbody tr th:only-of-type {\n",
       "        vertical-align: middle;\n",
       "    }\n",
       "\n",
       "    .dataframe tbody tr th {\n",
       "        vertical-align: top;\n",
       "    }\n",
       "\n",
       "    .dataframe thead th {\n",
       "        text-align: right;\n",
       "    }\n",
       "</style>\n",
       "<table border=\"1\" class=\"dataframe\">\n",
       "  <thead>\n",
       "    <tr style=\"text-align: right;\">\n",
       "      <th></th>\n",
       "      <th>visitorId</th>\n",
       "    </tr>\n",
       "    <tr>\n",
       "      <th>group</th>\n",
       "      <th></th>\n",
       "    </tr>\n",
       "  </thead>\n",
       "  <tbody>\n",
       "    <tr>\n",
       "      <th>A</th>\n",
       "      <td>445</td>\n",
       "    </tr>\n",
       "    <tr>\n",
       "      <th>B</th>\n",
       "      <td>528</td>\n",
       "    </tr>\n",
       "  </tbody>\n",
       "</table>\n",
       "</div>"
      ],
      "text/plain": [
       "       visitorId\n",
       "group           \n",
       "A            445\n",
       "B            528"
      ]
     },
     "execution_count": 19,
     "metadata": {},
     "output_type": "execute_result"
    }
   ],
   "source": [
    "orders.groupby('group').agg({'visitorId':'nunique'})"
   ]
  },
  {
   "cell_type": "markdown",
   "metadata": {},
   "source": [
    "После удаления пользователей, попавших сразу в обе группы, число пользователей в группе А - 445 человек, а группе В - 528 человек. "
   ]
  },
  {
   "cell_type": "code",
   "execution_count": 20,
   "metadata": {},
   "outputs": [],
   "source": [
    "# создаем массив уникальных пар значений дат и групп теста\n",
    "datesGroups = orders[['date','group']].drop_duplicates() "
   ]
  },
  {
   "cell_type": "code",
   "execution_count": 21,
   "metadata": {},
   "outputs": [],
   "source": [
    "# получаем агрегированные кумулятивные по дням данные о заказах \n",
    "ordersAggregated = datesGroups.apply(\n",
    "    lambda x: orders[\n",
    "        np.logical_and(orders['date'] <= x['date'],\n",
    "                       orders['group'] == x['group'])\n",
    "    ].agg({'date':'max','group':'max','transactionId':'nunique','visitorId':'nunique','revenue':'sum'}), axis=1\n",
    "                                   ).sort_values(by=['date','group'])"
   ]
  },
  {
   "cell_type": "code",
   "execution_count": 22,
   "metadata": {},
   "outputs": [],
   "source": [
    "# получаем агрегированные кумулятивные по дням данные о посетителях интернет-магазина\n",
    "visitorsAggregated = datesGroups.apply(\n",
    "   lambda x: visitors[\n",
    "        np.logical_and(visitors['date'] <= x['date'],\n",
    "                       visitors['group'] == x['group'])\n",
    "    ].agg({'date':'max','group':'max','visitors':'sum'}), axis=1\n",
    "                                   ).sort_values(by=['date','group'])\n"
   ]
  },
  {
   "cell_type": "code",
   "execution_count": 23,
   "metadata": {},
   "outputs": [
    {
     "data": {
      "text/html": [
       "<div>\n",
       "<style scoped>\n",
       "    .dataframe tbody tr th:only-of-type {\n",
       "        vertical-align: middle;\n",
       "    }\n",
       "\n",
       "    .dataframe tbody tr th {\n",
       "        vertical-align: top;\n",
       "    }\n",
       "\n",
       "    .dataframe thead th {\n",
       "        text-align: right;\n",
       "    }\n",
       "</style>\n",
       "<table border=\"1\" class=\"dataframe\">\n",
       "  <thead>\n",
       "    <tr style=\"text-align: right;\">\n",
       "      <th></th>\n",
       "      <th>date</th>\n",
       "      <th>group</th>\n",
       "      <th>orders</th>\n",
       "      <th>buyers</th>\n",
       "      <th>revenue</th>\n",
       "      <th>visitors</th>\n",
       "    </tr>\n",
       "  </thead>\n",
       "  <tbody>\n",
       "    <tr>\n",
       "      <th>0</th>\n",
       "      <td>2019-08-01</td>\n",
       "      <td>A</td>\n",
       "      <td>23</td>\n",
       "      <td>19</td>\n",
       "      <td>142779</td>\n",
       "      <td>719</td>\n",
       "    </tr>\n",
       "    <tr>\n",
       "      <th>1</th>\n",
       "      <td>2019-08-01</td>\n",
       "      <td>B</td>\n",
       "      <td>17</td>\n",
       "      <td>17</td>\n",
       "      <td>59758</td>\n",
       "      <td>713</td>\n",
       "    </tr>\n",
       "    <tr>\n",
       "      <th>2</th>\n",
       "      <td>2019-08-02</td>\n",
       "      <td>A</td>\n",
       "      <td>42</td>\n",
       "      <td>36</td>\n",
       "      <td>234381</td>\n",
       "      <td>1338</td>\n",
       "    </tr>\n",
       "    <tr>\n",
       "      <th>3</th>\n",
       "      <td>2019-08-02</td>\n",
       "      <td>B</td>\n",
       "      <td>40</td>\n",
       "      <td>39</td>\n",
       "      <td>221801</td>\n",
       "      <td>1294</td>\n",
       "    </tr>\n",
       "    <tr>\n",
       "      <th>4</th>\n",
       "      <td>2019-08-03</td>\n",
       "      <td>A</td>\n",
       "      <td>66</td>\n",
       "      <td>60</td>\n",
       "      <td>346854</td>\n",
       "      <td>1845</td>\n",
       "    </tr>\n",
       "  </tbody>\n",
       "</table>\n",
       "</div>"
      ],
      "text/plain": [
       "        date group  orders  buyers  revenue  visitors\n",
       "0 2019-08-01     A      23      19   142779       719\n",
       "1 2019-08-01     B      17      17    59758       713\n",
       "2 2019-08-02     A      42      36   234381      1338\n",
       "3 2019-08-02     B      40      39   221801      1294\n",
       "4 2019-08-03     A      66      60   346854      1845"
      ]
     },
     "execution_count": 23,
     "metadata": {},
     "output_type": "execute_result"
    }
   ],
   "source": [
    "#объединим кумулятивные данные в одной таблице\n",
    "cumulativeData = ordersAggregated.merge(visitorsAggregated, on = ['date','group'])\n",
    "cumulativeData.columns = ['date', 'group', 'orders', 'buyers', 'revenue', 'visitors']\n",
    "cumulativeData.head()"
   ]
  },
  {
   "cell_type": "code",
   "execution_count": 24,
   "metadata": {},
   "outputs": [],
   "source": [
    "# датафрейм с кумулятивным количеством заказов и кумулятивной выручкой по дням в группе А и B\n",
    "cumulativeRevenueA = cumulativeData[cumulativeData['group'] == 'A'][['date','revenue','orders']]\n",
    "cumulativeRevenueB = cumulativeData[cumulativeData['group'] == 'B'][['date','revenue','orders']]"
   ]
  },
  {
   "cell_type": "code",
   "execution_count": 25,
   "metadata": {},
   "outputs": [
    {
     "data": {
      "image/png": "[encoded data removed]",
      "text/plain": [
       "<Figure size 864x504 with 1 Axes>"
      ]
     },
     "metadata": {
      "needs_background": "light"
     },
     "output_type": "display_data"
    }
   ],
   "source": [
    "#построим график кумулятивной выручкой по дням по группам\n",
    "plt.figure(figsize=(12, 7))\n",
    "plt.plot(cumulativeRevenueA['date'],cumulativeRevenueA['revenue'], label = 'A')\n",
    "plt.plot(cumulativeRevenueB['date'],cumulativeRevenueB['revenue'], label = 'B')\n",
    "plt.title('Кумулятивная выручка по дням по группам')\n",
    "plt.legend()\n",
    "plt.xlabel('Дата')\n",
    "plt.ylabel('Выручка, млн.руб.')\n",
    "plt.show()"
   ]
  },
  {
   "cell_type": "markdown",
   "metadata": {},
   "source": [
    "Выручка почти равномерно увеличивается в течение всего теста. Хороший знак.\n",
    "Однако график выручки группы В в одной точке резко растет. Это может сигнализировать о всплесках числа заказов, либо о появлении очень дорогих заказов в выборке."
   ]
  },
  {
   "cell_type": "code",
   "execution_count": 26,
   "metadata": {},
   "outputs": [
    {
     "data": {
      "image/png": "[encoded data removed]",
      "text/plain": [
       "<Figure size 864x504 with 1 Axes>"
      ]
     },
     "metadata": {
      "needs_background": "light"
     },
     "output_type": "display_data"
    }
   ],
   "source": [
    "#построим график кумулятивного среднего чека по дням по группам\n",
    "plt.figure(figsize=(12, 7))\n",
    "plt.plot(cumulativeRevenueA['date'],(cumulativeRevenueA['revenue']/cumulativeRevenueA['orders']), label = 'A')\n",
    "plt.plot(cumulativeRevenueB['date'],(cumulativeRevenueB['revenue']/cumulativeRevenueB['orders']), label = 'B')\n",
    "plt.title('Кумулятивное значение среднего чека по дням по группам')\n",
    "plt.legend()\n",
    "plt.xlabel('Дата')\n",
    "plt.ylabel('Средний чек, руб.')\n",
    "plt.show()"
   ]
  },
  {
   "cell_type": "markdown",
   "metadata": {},
   "source": [
    "Кумулятивное значение среднего чека по сегментам продолжает колебаться. Также заметен сильный скачок в группе В. Скорее всего принимать решение не по стабилизирующемуся графику еще рано, кроме того можно говорить и наличии выбросах, которые могут исказить данную метрику. "
   ]
  },
  {
   "cell_type": "code",
   "execution_count": 27,
   "metadata": {},
   "outputs": [
    {
     "data": {
      "image/png": "[encoded data removed]",
      "text/plain": [
       "<Figure size 864x504 with 1 Axes>"
      ]
     },
     "metadata": {
      "needs_background": "light"
     },
     "output_type": "display_data"
    }
   ],
   "source": [
    "#объединим кумулятивные данные по группа в одну переменную для нахождения относительного изменения\n",
    "mergedCumulativeRevenue = cumulativeRevenueA.merge(cumulativeRevenueB, on= 'date',suffixes=['A','B'])\n",
    "\n",
    "#построим график относительного изменения кумулятивного среднего чека группы B к группе A\n",
    "plt.figure(figsize=(12, 7))\n",
    "plt.plot(mergedCumulativeRevenue['date'],((mergedCumulativeRevenue['revenueB']/mergedCumulativeRevenue['ordersB'])/\n",
    "         (mergedCumulativeRevenue['revenueA']/mergedCumulativeRevenue['ordersA'])-1))\n",
    "plt.title('Относительное изменение кумулятивного среднего чека группы B к группе A')\n",
    "plt.axhline(y=0,color='black',linestyle='--')\n",
    "plt.xlabel('Дата')\n",
    "plt.ylabel('Относительная разница между группой В и группой А')\n",
    "plt.show()\n"
   ]
  },
  {
   "cell_type": "markdown",
   "metadata": {},
   "source": [
    "В нескольких точках график различия между сегментами резко «скачет», соответственно можно сказать что в данных явно наблюдаются выбросы. Стоит отметить, что почти на всем промежутке значение в группе В выше, чем в А."
   ]
  },
  {
   "cell_type": "code",
   "execution_count": 28,
   "metadata": {},
   "outputs": [],
   "source": [
    "#считаем кумулятивную среднего количества заказов на посетителя и отделяем данные для каждой группы\n",
    "cumulativeData['avg_orders_by_visitor'] = cumulativeData['orders']/cumulativeData['visitors']\n",
    "cumulativeDataA = cumulativeData[cumulativeData['group']=='A']\n",
    "cumulativeDataB = cumulativeData[cumulativeData['group']=='B']"
   ]
  },
  {
   "cell_type": "code",
   "execution_count": 29,
   "metadata": {
    "scrolled": false
   },
   "outputs": [
    {
     "data": {
      "image/png": "[encoded data removed]",
      "text/plain": [
       "<Figure size 864x504 with 1 Axes>"
      ]
     },
     "metadata": {
      "needs_background": "light"
     },
     "output_type": "display_data"
    }
   ],
   "source": [
    "#построим график кумулятивное среднее количество заказов на посетителя по дням и группам\n",
    "plt.figure(figsize=(12, 7))\n",
    "plt.plot(cumulativeDataA['date'],cumulativeDataA['avg_orders_by_visitor'], label = 'A')\n",
    "plt.plot(cumulativeDataB['date'],cumulativeDataB['avg_orders_by_visitor'], label = 'B')\n",
    "plt.title('Кумулятивное среднее количество заказов на посетителя по дням и по группам')\n",
    "plt.legend()\n",
    "plt.axis([dt.datetime(2019, 8, 1), dt.datetime(2019, 9, 1), 0, 0.05]) \n",
    "plt.xlabel('Дата')\n",
    "plt.ylabel('Среднее число заказов на посетителя')\n",
    "plt.show()"
   ]
  },
  {
   "cell_type": "markdown",
   "metadata": {},
   "source": [
    "Вначале группы колебались около одного значения, но затем среднее число заказов на посетителя группы В вырвалось вперёд и зафиксировалось, а среднее число заказов на посетителя группы А просело и также зафиксировалась."
   ]
  },
  {
   "cell_type": "code",
   "execution_count": 30,
   "metadata": {},
   "outputs": [
    {
     "data": {
      "image/png": "[encoded data removed]",
      "text/plain": [
       "<Figure size 864x504 with 1 Axes>"
      ]
     },
     "metadata": {
      "needs_background": "light"
     },
     "output_type": "display_data"
    }
   ],
   "source": [
    "#объединим кумулятивные данные по группа в одну переменную для нахождения относительного изменения\n",
    "mergedCumulativeConversions = cumulativeDataA.merge(cumulativeDataB, on='date',suffixes=['A','B'])\n",
    "\n",
    "#построим график относительного изменения кумулятивного среднего количества заказов на посетителя группы B к группе A\n",
    "plt.figure(figsize=(12, 7))\n",
    "plt.plot(mergedCumulativeConversions['date'],(mergedCumulativeConversions['avg_orders_by_visitorB']/\n",
    "                                              mergedCumulativeConversions['avg_orders_by_visitorA']-1))\n",
    "plt.title('Относительное изменение кумулятивного среднего количества заказов на посетителя группы B к группе A')\n",
    "plt.axhline(y=0,color='black',linestyle='--')\n",
    "plt.axhline(y=0.1,color='grey',linestyle='--')\n",
    "plt.axis([dt.datetime(2019, 8, 1), dt.datetime(2019, 9, 1), -0.6, 0.6])\n",
    "plt.xlabel('Дата')\n",
    "plt.ylabel('Относительная разница между группой В и группой А')\n",
    "plt.show()\n"
   ]
  },
  {
   "cell_type": "markdown",
   "metadata": {},
   "source": [
    "В начале теста группа B проигрывала группе A, затем вырвалась вперёд. Однако в последствии мы видим снижение относительной разницы между группами, и конце значение зафиксировалось около среднего"
   ]
  },
  {
   "cell_type": "markdown",
   "metadata": {},
   "source": [
    "### Анализ выбросов, расчет перцентилей"
   ]
  },
  {
   "cell_type": "code",
   "execution_count": 31,
   "metadata": {},
   "outputs": [
    {
     "data": {
      "image/png": "[encoded data removed]",
      "text/plain": [
       "<Figure size 864x504 with 1 Axes>"
      ]
     },
     "metadata": {
      "needs_background": "light"
     },
     "output_type": "display_data"
    }
   ],
   "source": [
    "# найдем количество заказов на одного пользователя\n",
    "ordersByUsers = orders.groupby('visitorId',as_index=False).agg({'transactionId':'nunique','group':'max'})\n",
    "ordersByUsers.columns = ['visitorId','orders','group']\n",
    "\n",
    "#построем диаграмму рассеяния для количества заказов по пользователям\n",
    "plt.figure(figsize=(12, 7))\n",
    "plt.scatter(pd.Series(range(0,len(ordersByUsers))),ordersByUsers['orders'])\n",
    "plt.title('Распределение количества заказов по пользователям')\n",
    "plt.ylabel('Количество заказов')\n",
    "plt.xlabel('Пользователи')\n",
    "plt.show()"
   ]
  },
  {
   "cell_type": "markdown",
   "metadata": {},
   "source": [
    "Из диаграммы видно, что в основном пользователи заказывали 1 раз, однако доля заказов от 2 до 3 также значительна. Кроме того, видны выбросы - пользователей, которые совершили 8-11 заказов. "
   ]
  },
  {
   "cell_type": "code",
   "execution_count": 32,
   "metadata": {},
   "outputs": [
    {
     "data": {
      "text/plain": [
       "array([1., 2.])"
      ]
     },
     "execution_count": 32,
     "metadata": {},
     "output_type": "execute_result"
    }
   ],
   "source": [
    "#посчитаем 95-й и 99-й перцентили количества заказов на одного пользователя\n",
    "np.percentile(ordersByUsers['orders'], [95, 99])\n"
   ]
  },
  {
   "cell_type": "markdown",
   "metadata": {},
   "source": [
    "Не более 5% пользователей оформляли больше чем 1 заказа. И всего 1% пользователей заказывали более двух раз. Для границы аномальных значений можно выбрать 1, таким образом в выборку войдет около 95% пользователей. "
   ]
  },
  {
   "cell_type": "code",
   "execution_count": 33,
   "metadata": {
    "scrolled": false
   },
   "outputs": [
    {
     "data": {
      "image/png": "[encoded data removed]",
      "text/plain": [
       "<Figure size 864x504 with 1 Axes>"
      ]
     },
     "metadata": {
      "needs_background": "light"
     },
     "output_type": "display_data"
    }
   ],
   "source": [
    "#построем диаграмму рассеяния для стоимости заказов\n",
    "plt.figure(figsize=(12, 7))\n",
    "plt.scatter(pd.Series(range(0,len(orders))),orders['revenue'])\n",
    "plt.title('Распределение стоимости заказов')\n",
    "plt.ylabel('Стоимость заказа')\n",
    "plt.xlabel('Пользователи')\n",
    "plt.show()"
   ]
  },
  {
   "cell_type": "code",
   "execution_count": 34,
   "metadata": {},
   "outputs": [
    {
     "data": {
      "image/png": "[encoded data removed]",
      "text/plain": [
       "<Figure size 864x504 with 1 Axes>"
      ]
     },
     "metadata": {
      "needs_background": "light"
     },
     "output_type": "display_data"
    }
   ],
   "source": [
    "#построем диаграмму рассеяния для стоимости заказов без явного выброса\n",
    "plt.figure(figsize=(12, 7))\n",
    "plt.scatter(pd.Series(range(0,len(orders[orders['revenue'] < 200000]))),orders[orders['revenue'] < 200000]['revenue'])\n",
    "plt.title('Распределение стоимости заказов')\n",
    "plt.ylabel('Стоимость заказа')\n",
    "plt.xlabel('Пользователи')\n",
    "plt.show()"
   ]
  },
  {
   "cell_type": "markdown",
   "metadata": {},
   "source": [
    "Основная доля заказов находится не превышает 20 тыс. руб. Как и предполагалось, есть два заказа, который явно дороже всех остальных."
   ]
  },
  {
   "cell_type": "code",
   "execution_count": 35,
   "metadata": {},
   "outputs": [
    {
     "data": {
      "text/plain": [
       "array([26785., 53904.])"
      ]
     },
     "execution_count": 35,
     "metadata": {},
     "output_type": "execute_result"
    }
   ],
   "source": [
    "#посчитаем 95-й и 99-й перцентили стоимости заказа\n",
    "np.percentile(orders['revenue'], [95, 99])"
   ]
  },
  {
   "cell_type": "markdown",
   "metadata": {},
   "source": [
    "Не более 5% заказов дороже 28000 рублей и не более 1% дороже 58233 рублей. Соотвественно для определения границы для аномальных значений можно установить заказы свыше 26 785 рублей, так мы отсеем 5% пользователь с дорогими заказами. "
   ]
  },
  {
   "cell_type": "markdown",
   "metadata": {},
   "source": [
    "### Определение статистической значимости различий между группами"
   ]
  },
  {
   "cell_type": "markdown",
   "metadata": {},
   "source": [
    "#### По \"сырым\" данным"
   ]
  },
  {
   "cell_type": "code",
   "execution_count": 36,
   "metadata": {},
   "outputs": [],
   "source": [
    "#разделим количество заказов по пользователям на группы\n",
    "ordersByUsersA = ordersByUsers[ordersByUsers['group'] == 'A'][['visitorId','orders']]\n",
    "ordersByUsersB = ordersByUsers[ordersByUsers['group'] == 'B'][['visitorId','orders']]"
   ]
  },
  {
   "cell_type": "markdown",
   "metadata": {},
   "source": [
    "Проверим существуют ли различия в среднем количестве заказов на посетителя между группами\n",
    "\n",
    "**Нулевая гипотеза:** раличия в среднем количестве заказов на посетителя между группами отсутствуют\n",
    "\n",
    "**Альтернативная гипотеза:** раличия в среднем количестве заказов на посетителя между группами есть"
   ]
  },
  {
   "cell_type": "code",
   "execution_count": 37,
   "metadata": {},
   "outputs": [],
   "source": [
    "#объявим переменные sampleA и sampleB, в которых пользователям из разных групп будет соответствовать количество заказов\n",
    "sampleA = pd.concat([ordersByUsersA['orders'], pd.Series(\n",
    "    0,index=np.arange(\n",
    "        visitors[visitors['group']=='A']['visitors'].sum()-len(ordersByUsersA['orders']))\n",
    "    , name ='orders')\n",
    "                    ],axis=0\n",
    "                   )\n",
    "\n",
    "sampleB = pd.concat([ordersByUsersB['orders'], pd.Series(\n",
    "    0,index=np.arange(\n",
    "        visitors[visitors['group']=='B']['visitors'].sum()-len(ordersByUsersB['orders']))\n",
    "    , name ='orders')\n",
    "                    ],axis=0\n",
    "                   )"
   ]
  },
  {
   "cell_type": "code",
   "execution_count": 38,
   "metadata": {},
   "outputs": [
    {
     "name": "stdout",
     "output_type": "stream",
     "text": [
      "0.011018084110014696\n",
      "0.160\n"
     ]
    }
   ],
   "source": [
    "#выведем статистическую значимость различий в среднем количестве заказов на посетителя между группами  \n",
    "print(stats.mannwhitneyu(sampleA, sampleB)[1])\n",
    "#выведем относительную разницу между среднем количестве заказов на посетителя между группами  \n",
    "print(\"{0:.3f}\".format(sampleB.mean() / sampleA.mean() - 1))\n",
    " "
   ]
  },
  {
   "cell_type": "markdown",
   "metadata": {},
   "source": [
    "p-value меньше 0,05, соответственно нулевую гипотезу, гласящую, что раличий в среднем количестве заказов на посетителя между группами нет, отвергаем. Различия есть. Относительный выиграш группы В составляет 16%"
   ]
  },
  {
   "cell_type": "markdown",
   "metadata": {},
   "source": [
    "Проверим существуют ли различия в среднем чеке между группами\n",
    "\n",
    "**Нулевая гипотеза:** раличия в среднем чеке между группами отсутствуют\n",
    "\n",
    "**Альтернативная гипотеза:** раличия в среднем чеке между группами есть"
   ]
  },
  {
   "cell_type": "code",
   "execution_count": 39,
   "metadata": {
    "scrolled": true
   },
   "outputs": [
    {
     "name": "stdout",
     "output_type": "stream",
     "text": [
      "0.8294908998149533\n",
      "0.287\n"
     ]
    }
   ],
   "source": [
    "#проведем тест Манна-Уитни\n",
    "results = stats.mannwhitneyu(orders[orders['group'] == 'A']['revenue'],orders[orders['group'] == 'B']['revenue'])\n",
    "#выведем статистическую значимость различий в среднем чеке заказа между группами  \n",
    "print(results[1])\n",
    "#выведем статистическую значимость различий в среднем чеке заказа между группами  \n",
    "print('{0:.3f}'.format(orders[orders['group'] == 'B']['revenue'].mean()/orders[orders['group'] == 'A']['revenue'].mean()-1))\n"
   ]
  },
  {
   "cell_type": "markdown",
   "metadata": {},
   "source": [
    "p-value = 0,83, что выше 0,05, соответственно, причин отвергать нулевую гипотезу и считать, что в среднем чеке есть различия, нет. При этом средний чек группы В значительно выше, среднего чека группы А (на 28,7%). Однако стоит помнить о выбросах и посмотреть на ситуацию, после их удаления. "
   ]
  },
  {
   "cell_type": "markdown",
   "metadata": {},
   "source": [
    "#### По \"очищенным\" данным"
   ]
  },
  {
   "cell_type": "code",
   "execution_count": 40,
   "metadata": {},
   "outputs": [
    {
     "data": {
      "text/plain": [
       "82       366673373\n",
       "138      611059232\n",
       "157      678354126\n",
       "176      759473111\n",
       "375     1617417821\n",
       "           ...    \n",
       "1103    1164614297\n",
       "1121    1604853044\n",
       "1136    1307669133\n",
       "1142    2606908679\n",
       "1196    2108080724\n",
       "Name: visitorId, Length: 86, dtype: int64"
      ]
     },
     "execution_count": 40,
     "metadata": {},
     "output_type": "execute_result"
    }
   ],
   "source": [
    "#найдем пользователей с аномальными стоимостью и количеством заказов\n",
    "usersWithManyOrders = pd.concat(\n",
    "    [\n",
    "        ordersByUsersA[ordersByUsersA['orders'] > (np.percentile(ordersByUsers['orders'], [95, 99])[0])]['visitorId'],\n",
    "        ordersByUsersB[ordersByUsersB['orders'] > (np.percentile(ordersByUsers['orders'], [95, 99])[0])]['visitorId'],\n",
    "    ],\n",
    "    axis=0,\n",
    ")\n",
    "\n",
    "usersWithExpensiveOrders = orders[orders['revenue'] > (np.percentile(orders['revenue'], [95, 99])[0])]['visitorId']\n",
    "\n",
    "abnormalUsers = (\n",
    "    pd.concat([usersWithManyOrders, usersWithExpensiveOrders], axis=0)\n",
    "    .drop_duplicates()\n",
    ")\n",
    "\n",
    "abnormalUsers"
   ]
  },
  {
   "cell_type": "markdown",
   "metadata": {},
   "source": [
    "Всего таких пользователей 86 человек."
   ]
  },
  {
   "cell_type": "code",
   "execution_count": 41,
   "metadata": {},
   "outputs": [],
   "source": [
    "#отфильтровав данных от аномальных пользователей, \n",
    "#объявим переменные, в которых пользователям из разных групп будет соответствовать количество заказов\n",
    "sampleAFiltered = pd.concat(\n",
    "    [\n",
    "        ordersByUsersA[\n",
    "            np.logical_not(ordersByUsersA['visitorId'].isin(abnormalUsers))\n",
    "        ]['orders'],\n",
    "        pd.Series(\n",
    "            0,\n",
    "            index=np.arange(\n",
    "                visitors[visitors['group']=='A']['visitors'].sum() - len(ordersByUsersA['orders'])\n",
    "            ),\n",
    "            name='orders',\n",
    "        ),\n",
    "    ],\n",
    "    axis=0,\n",
    ")\n",
    "\n",
    "\n",
    "sampleBFiltered = pd.concat(\n",
    "    [\n",
    "        ordersByUsersB[\n",
    "            np.logical_not(ordersByUsersB['visitorId'].isin(abnormalUsers))\n",
    "        ]['orders'],\n",
    "        pd.Series(\n",
    "            0,\n",
    "            index=np.arange(\n",
    "                visitors[visitors['group']=='B']['visitors'].sum() - len(ordersByUsersB['orders'])\n",
    "            ),\n",
    "            name='orders',\n",
    "        ),\n",
    "    ],\n",
    "    axis=0,\n",
    ") \n",
    "\n"
   ]
  },
  {
   "cell_type": "code",
   "execution_count": 42,
   "metadata": {},
   "outputs": [
    {
     "name": "stdout",
     "output_type": "stream",
     "text": [
      "0.01593020716573973\n",
      "0.174\n"
     ]
    }
   ],
   "source": [
    "print(stats.mannwhitneyu(sampleAFiltered, sampleBFiltered)[1])\n",
    "print('{0:.3f}'.format(sampleBFiltered.mean()/sampleAFiltered.mean()-1)) "
   ]
  },
  {
   "cell_type": "markdown",
   "metadata": {},
   "source": [
    "P-value увеличился, но разница между сегментами немного увеличилась с 16% до 17%. При этом, р-value все равно ниже 0,05, соответство, есть причины отвергнуть нулевую гипотезу. "
   ]
  },
  {
   "cell_type": "code",
   "execution_count": 43,
   "metadata": {},
   "outputs": [],
   "source": [
    "results = stats.mannwhitneyu(\n",
    "            orders[\n",
    "                np.logical_and(\n",
    "                    orders['group'] == 'A',\n",
    "                    np.logical_not(orders['visitorId'].isin(abnormalUsers)),\n",
    "                )\n",
    "            ]['revenue'],\n",
    "            orders[\n",
    "                np.logical_and(\n",
    "                    orders['group'] == 'B',\n",
    "                    np.logical_not(orders['visitorId'].isin(abnormalUsers)),\n",
    "                )\n",
    "            ]['revenue'],\n",
    "        )\n",
    "\n"
   ]
  },
  {
   "cell_type": "code",
   "execution_count": 44,
   "metadata": {},
   "outputs": [
    {
     "name": "stdout",
     "output_type": "stream",
     "text": [
      "0.7271286894009963\n",
      "-0.034\n"
     ]
    }
   ],
   "source": [
    "print(results[1])\n",
    "\n",
    "print(\"{0:.3f}\".format(\n",
    "        orders[\n",
    "            np.logical_and(\n",
    "                orders['group'] == 'B',\n",
    "                np.logical_not(orders['visitorId'].isin(abnormalUsers)),\n",
    "            )\n",
    "        ]['revenue'].mean()\n",
    "        / orders[\n",
    "            np.logical_and(\n",
    "                orders['group'] == 'A',\n",
    "                np.logical_not(orders['visitorId'].isin(abnormalUsers)),\n",
    "            )\n",
    "        ]['revenue'].mean()\n",
    "        - 1\n",
    "    )\n",
    ")\n",
    " "
   ]
  },
  {
   "cell_type": "markdown",
   "metadata": {},
   "source": [
    "p-value сократился с 0,83 до 0,72, что все равно выше 0,05, соответственно, нулевая гипотеза не отвергается. При этом если до фильтрации выбросов средний чек группы В значительно превышал средний чек группы А, то после удаления аномальных пользователей средний чек группы В становится чуть ниже среднего чека А (на 3%). \n"
   ]
  },
  {
   "cell_type": "markdown",
   "metadata": {},
   "source": [
    "## Выводы"
   ]
  },
  {
   "cell_type": "markdown",
   "metadata": {},
   "source": [
    "- Есть статистически значимое различие по среднему количеству заказов  на посетителя между группами как по сырым данным, так и после фильтрации аномалий;\n",
    "- Нет статистически значимого различия по среднему чеку между группами ни по «сырым», ни по данным после фильтрации аномалий;\n",
    "- График различия среднего количества заказов  на посетителя между группами говорит о том, что результаты группы B лучше группы A: результаты зафиксировались около среднего значения.\n",
    "- График различия среднего чека колеблется. Сделать из этого графика определённые выводы нельзя из-за наличия выбросов.\n",
    "\n",
    "Таким образом, исходя из фактов выше, тест стоит остановить, зафиксировать победу группы В. "
   ]
  }
 ],
 "metadata": {
  "ExecuteTimeLog": [
   {
    "duration": 1386,
    "start_time": "2023-04-08T09:22:32.906Z"
   },
   {
    "duration": 99,
    "start_time": "2023-04-08T09:23:07.692Z"
   },
   {
    "duration": 32,
    "start_time": "2023-04-08T09:23:25.427Z"
   },
   {
    "duration": 33,
    "start_time": "2023-04-08T09:23:30.169Z"
   },
   {
    "duration": 6,
    "start_time": "2023-04-08T09:25:27.234Z"
   },
   {
    "duration": 6,
    "start_time": "2023-04-08T09:25:32.043Z"
   },
   {
    "duration": 13,
    "start_time": "2023-04-08T09:26:03.910Z"
   },
   {
    "duration": 11,
    "start_time": "2023-04-08T09:26:15.196Z"
   },
   {
    "duration": 12,
    "start_time": "2023-04-08T09:27:12.122Z"
   },
   {
    "duration": 12,
    "start_time": "2023-04-08T09:28:07.588Z"
   },
   {
    "duration": 172,
    "start_time": "2023-04-08T09:30:15.111Z"
   },
   {
    "duration": 68,
    "start_time": "2023-04-08T09:33:37.073Z"
   },
   {
    "duration": 69,
    "start_time": "2023-04-08T09:33:45.351Z"
   },
   {
    "duration": 90,
    "start_time": "2023-04-08T09:36:19.321Z"
   },
   {
    "duration": 70,
    "start_time": "2023-04-08T09:36:30.436Z"
   },
   {
    "duration": 13,
    "start_time": "2023-04-08T09:37:12.581Z"
   },
   {
    "duration": 5,
    "start_time": "2023-04-08T09:38:29.333Z"
   },
   {
    "duration": 5,
    "start_time": "2023-04-08T09:38:33.050Z"
   },
   {
    "duration": 535,
    "start_time": "2023-04-08T09:38:56.169Z"
   },
   {
    "duration": 73,
    "start_time": "2023-04-08T09:39:11.120Z"
   },
   {
    "duration": 73,
    "start_time": "2023-04-08T09:39:18.134Z"
   },
   {
    "duration": 62,
    "start_time": "2023-04-08T09:40:32.413Z"
   },
   {
    "duration": 362,
    "start_time": "2023-04-08T09:40:34.259Z"
   },
   {
    "duration": 657,
    "start_time": "2023-04-08T09:40:42.139Z"
   },
   {
    "duration": 68,
    "start_time": "2023-04-08T09:41:00.266Z"
   },
   {
    "duration": 10,
    "start_time": "2023-04-08T09:41:20.218Z"
   },
   {
    "duration": 514,
    "start_time": "2023-04-08T09:41:37.434Z"
   },
   {
    "duration": 416,
    "start_time": "2023-04-08T09:41:43.023Z"
   },
   {
    "duration": 759,
    "start_time": "2023-04-08T09:41:45.890Z"
   },
   {
    "duration": 487,
    "start_time": "2023-04-08T09:41:55.381Z"
   },
   {
    "duration": 60,
    "start_time": "2023-04-08T09:42:04.540Z"
   },
   {
    "duration": 14,
    "start_time": "2023-04-08T09:42:07.322Z"
   },
   {
    "duration": 8,
    "start_time": "2023-04-08T09:42:31.662Z"
   },
   {
    "duration": 7,
    "start_time": "2023-04-08T09:42:38.954Z"
   },
   {
    "duration": 8,
    "start_time": "2023-04-08T09:44:34.297Z"
   },
   {
    "duration": 6,
    "start_time": "2023-04-08T09:44:38.592Z"
   },
   {
    "duration": 11,
    "start_time": "2023-04-08T09:44:50.937Z"
   },
   {
    "duration": 12,
    "start_time": "2023-04-08T09:45:04.007Z"
   },
   {
    "duration": 11,
    "start_time": "2023-04-08T09:45:14.123Z"
   },
   {
    "duration": 8,
    "start_time": "2023-04-08T09:45:21.377Z"
   },
   {
    "duration": 9,
    "start_time": "2023-04-08T09:46:58.930Z"
   },
   {
    "duration": 9,
    "start_time": "2023-04-08T09:47:05.636Z"
   },
   {
    "duration": 7,
    "start_time": "2023-04-08T09:51:12.098Z"
   },
   {
    "duration": 10,
    "start_time": "2023-04-08T09:51:25.241Z"
   },
   {
    "duration": 103,
    "start_time": "2023-04-08T09:59:14.392Z"
   },
   {
    "duration": 903,
    "start_time": "2023-04-08T09:59:23.093Z"
   },
   {
    "duration": 5,
    "start_time": "2023-04-08T09:59:43.043Z"
   },
   {
    "duration": 11,
    "start_time": "2023-04-08T09:59:49.633Z"
   },
   {
    "duration": 7,
    "start_time": "2023-04-08T09:59:52.966Z"
   },
   {
    "duration": 222,
    "start_time": "2023-04-08T10:00:36.566Z"
   },
   {
    "duration": 188,
    "start_time": "2023-04-08T10:01:16.664Z"
   },
   {
    "duration": 107,
    "start_time": "2023-04-08T10:02:32.223Z"
   },
   {
    "duration": 149,
    "start_time": "2023-04-08T10:02:57.413Z"
   },
   {
    "duration": 8,
    "start_time": "2023-04-08T10:04:36.618Z"
   },
   {
    "duration": 14,
    "start_time": "2023-04-08T10:04:48.062Z"
   },
   {
    "duration": 6,
    "start_time": "2023-04-08T10:05:28.281Z"
   },
   {
    "duration": 14,
    "start_time": "2023-04-08T10:05:40.520Z"
   },
   {
    "duration": 12,
    "start_time": "2023-04-08T10:05:44.816Z"
   },
   {
    "duration": 1414,
    "start_time": "2023-04-08T10:07:41.078Z"
   },
   {
    "duration": 4,
    "start_time": "2023-04-08T10:07:51.655Z"
   },
   {
    "duration": 6,
    "start_time": "2023-04-08T10:08:08.208Z"
   },
   {
    "duration": 232,
    "start_time": "2023-04-08T10:10:04.595Z"
   },
   {
    "duration": 208,
    "start_time": "2023-04-08T10:10:09.972Z"
   },
   {
    "duration": 184,
    "start_time": "2023-04-08T10:11:15.483Z"
   },
   {
    "duration": 215,
    "start_time": "2023-04-08T10:11:22.903Z"
   },
   {
    "duration": 240,
    "start_time": "2023-04-08T10:12:13.088Z"
   },
   {
    "duration": 254,
    "start_time": "2023-04-08T10:12:46.594Z"
   },
   {
    "duration": 187,
    "start_time": "2023-04-08T10:12:53.236Z"
   },
   {
    "duration": 252,
    "start_time": "2023-04-08T10:14:39.334Z"
   },
   {
    "duration": 192,
    "start_time": "2023-04-08T10:14:53.937Z"
   },
   {
    "duration": 185,
    "start_time": "2023-04-08T10:14:57.933Z"
   },
   {
    "duration": 220,
    "start_time": "2023-04-08T10:16:27.646Z"
   },
   {
    "duration": 183,
    "start_time": "2023-04-08T10:16:50.536Z"
   },
   {
    "duration": 181,
    "start_time": "2023-04-08T10:16:52.552Z"
   },
   {
    "duration": 6,
    "start_time": "2023-04-08T10:18:14.799Z"
   },
   {
    "duration": 206,
    "start_time": "2023-04-08T10:21:45.676Z"
   },
   {
    "duration": 326,
    "start_time": "2023-04-08T10:23:14.873Z"
   },
   {
    "duration": 303,
    "start_time": "2023-04-08T10:34:12.465Z"
   },
   {
    "duration": 6,
    "start_time": "2023-04-08T10:49:08.962Z"
   },
   {
    "duration": 266,
    "start_time": "2023-04-08T10:50:01.667Z"
   },
   {
    "duration": 216,
    "start_time": "2023-04-08T10:50:29.932Z"
   },
   {
    "duration": 225,
    "start_time": "2023-04-08T10:51:41.422Z"
   },
   {
    "duration": 312,
    "start_time": "2023-04-08T10:52:35.397Z"
   },
   {
    "duration": 220,
    "start_time": "2023-04-08T10:53:00.235Z"
   },
   {
    "duration": 252,
    "start_time": "2023-04-08T10:53:09.474Z"
   },
   {
    "duration": 178,
    "start_time": "2023-04-08T10:54:52.970Z"
   },
   {
    "duration": 237,
    "start_time": "2023-04-08T10:55:07.727Z"
   },
   {
    "duration": 200,
    "start_time": "2023-04-08T10:55:11.992Z"
   },
   {
    "duration": 99,
    "start_time": "2023-04-08T11:00:12.915Z"
   },
   {
    "duration": 11,
    "start_time": "2023-04-08T11:00:28.049Z"
   },
   {
    "duration": 14,
    "start_time": "2023-04-08T11:00:31.596Z"
   },
   {
    "duration": 129,
    "start_time": "2023-04-08T11:02:42.009Z"
   },
   {
    "duration": 149,
    "start_time": "2023-04-08T11:03:55.433Z"
   },
   {
    "duration": 136,
    "start_time": "2023-04-08T11:05:27.633Z"
   },
   {
    "duration": 5,
    "start_time": "2023-04-08T11:06:30.918Z"
   },
   {
    "duration": 5,
    "start_time": "2023-04-08T11:07:11.122Z"
   },
   {
    "duration": 163,
    "start_time": "2023-04-08T11:12:41.587Z"
   },
   {
    "duration": 162,
    "start_time": "2023-04-08T11:15:13.751Z"
   },
   {
    "duration": 6,
    "start_time": "2023-04-08T11:15:30.844Z"
   },
   {
    "duration": 5,
    "start_time": "2023-04-08T11:15:47.580Z"
   },
   {
    "duration": 77,
    "start_time": "2023-04-08T16:26:40.546Z"
   },
   {
    "duration": 1350,
    "start_time": "2023-04-08T16:26:44.424Z"
   },
   {
    "duration": 92,
    "start_time": "2023-04-08T16:26:45.776Z"
   },
   {
    "duration": 13,
    "start_time": "2023-04-08T16:26:45.870Z"
   },
   {
    "duration": 19,
    "start_time": "2023-04-08T16:26:45.885Z"
   },
   {
    "duration": 153,
    "start_time": "2023-04-08T16:26:45.906Z"
   },
   {
    "duration": 12,
    "start_time": "2023-04-08T16:26:46.061Z"
   },
   {
    "duration": 22,
    "start_time": "2023-04-08T16:26:46.075Z"
   },
   {
    "duration": 17,
    "start_time": "2023-04-08T16:26:46.099Z"
   },
   {
    "duration": 10,
    "start_time": "2023-04-08T16:26:46.118Z"
   },
   {
    "duration": 178,
    "start_time": "2023-04-08T16:26:46.131Z"
   },
   {
    "duration": 137,
    "start_time": "2023-04-08T16:26:46.311Z"
   },
   {
    "duration": 15,
    "start_time": "2023-04-08T16:26:46.450Z"
   },
   {
    "duration": 31,
    "start_time": "2023-04-08T16:26:46.467Z"
   },
   {
    "duration": 336,
    "start_time": "2023-04-08T16:26:46.502Z"
   },
   {
    "duration": 230,
    "start_time": "2023-04-08T16:26:46.841Z"
   },
   {
    "duration": 367,
    "start_time": "2023-04-08T16:26:47.073Z"
   },
   {
    "duration": 6,
    "start_time": "2023-04-08T16:26:47.442Z"
   },
   {
    "duration": 252,
    "start_time": "2023-04-08T16:26:47.449Z"
   },
   {
    "duration": 157,
    "start_time": "2023-04-08T16:26:47.703Z"
   },
   {
    "duration": 10,
    "start_time": "2023-04-08T16:26:47.862Z"
   },
   {
    "duration": 23,
    "start_time": "2023-04-08T16:26:47.874Z"
   },
   {
    "duration": 178,
    "start_time": "2023-04-08T16:26:47.899Z"
   },
   {
    "duration": 17,
    "start_time": "2023-04-08T16:26:48.078Z"
   },
   {
    "duration": 1563,
    "start_time": "2023-04-08T16:26:48.097Z"
   },
   {
    "duration": 0,
    "start_time": "2023-04-08T16:26:49.662Z"
   },
   {
    "duration": 21,
    "start_time": "2023-04-08T16:28:46.874Z"
   },
   {
    "duration": 20,
    "start_time": "2023-04-08T16:29:05.152Z"
   },
   {
    "duration": 106,
    "start_time": "2023-04-08T16:29:10.207Z"
   },
   {
    "duration": 265,
    "start_time": "2023-04-08T16:29:21.020Z"
   },
   {
    "duration": 146,
    "start_time": "2023-04-08T16:30:09.002Z"
   },
   {
    "duration": 40,
    "start_time": "2023-04-08T16:42:54.336Z"
   },
   {
    "duration": 40,
    "start_time": "2023-04-08T16:43:27.569Z"
   },
   {
    "duration": 26,
    "start_time": "2023-04-08T16:43:58.717Z"
   },
   {
    "duration": 1396,
    "start_time": "2023-04-08T16:47:46.703Z"
   },
   {
    "duration": 322,
    "start_time": "2023-04-08T16:48:32.983Z"
   },
   {
    "duration": 427,
    "start_time": "2023-04-08T16:50:03.277Z"
   },
   {
    "duration": 1381,
    "start_time": "2023-04-08T16:50:22.599Z"
   },
   {
    "duration": 7,
    "start_time": "2023-04-08T16:50:36.860Z"
   },
   {
    "duration": 15,
    "start_time": "2023-04-08T16:50:40.487Z"
   },
   {
    "duration": 7,
    "start_time": "2023-04-08T16:52:14.569Z"
   },
   {
    "duration": 4609,
    "start_time": "2023-04-08T16:55:04.271Z"
   },
   {
    "duration": 154,
    "start_time": "2023-04-08T16:55:08.882Z"
   },
   {
    "duration": 17,
    "start_time": "2023-04-08T16:55:09.042Z"
   },
   {
    "duration": 13,
    "start_time": "2023-04-08T16:55:09.061Z"
   },
   {
    "duration": 205,
    "start_time": "2023-04-08T16:55:09.076Z"
   },
   {
    "duration": 23,
    "start_time": "2023-04-08T16:55:09.283Z"
   },
   {
    "duration": 42,
    "start_time": "2023-04-08T16:55:09.309Z"
   },
   {
    "duration": 19,
    "start_time": "2023-04-08T16:55:09.353Z"
   },
   {
    "duration": 9,
    "start_time": "2023-04-08T16:55:09.374Z"
   },
   {
    "duration": 289,
    "start_time": "2023-04-08T16:55:09.385Z"
   },
   {
    "duration": 188,
    "start_time": "2023-04-08T16:55:09.676Z"
   },
   {
    "duration": 18,
    "start_time": "2023-04-08T16:55:09.866Z"
   },
   {
    "duration": 38,
    "start_time": "2023-04-08T16:55:09.888Z"
   },
   {
    "duration": 496,
    "start_time": "2023-04-08T16:55:09.936Z"
   },
   {
    "duration": 348,
    "start_time": "2023-04-08T16:55:10.434Z"
   },
   {
    "duration": 559,
    "start_time": "2023-04-08T16:55:10.784Z"
   },
   {
    "duration": 7,
    "start_time": "2023-04-08T16:55:11.350Z"
   },
   {
    "duration": 352,
    "start_time": "2023-04-08T16:55:11.359Z"
   },
   {
    "duration": 410,
    "start_time": "2023-04-08T16:55:11.724Z"
   },
   {
    "duration": 7,
    "start_time": "2023-04-08T16:55:12.136Z"
   },
   {
    "duration": 235,
    "start_time": "2023-04-08T16:55:12.145Z"
   },
   {
    "duration": 22,
    "start_time": "2023-04-08T16:55:12.382Z"
   },
   {
    "duration": 36,
    "start_time": "2023-04-08T16:55:12.408Z"
   },
   {
    "duration": 82,
    "start_time": "2023-04-08T16:56:34.870Z"
   },
   {
    "duration": 2959,
    "start_time": "2023-04-08T16:56:42.215Z"
   },
   {
    "duration": 129,
    "start_time": "2023-04-08T16:56:45.176Z"
   },
   {
    "duration": 18,
    "start_time": "2023-04-08T16:56:45.313Z"
   },
   {
    "duration": 25,
    "start_time": "2023-04-08T16:56:45.334Z"
   },
   {
    "duration": 194,
    "start_time": "2023-04-08T16:56:45.362Z"
   },
   {
    "duration": 12,
    "start_time": "2023-04-08T16:56:45.557Z"
   },
   {
    "duration": 38,
    "start_time": "2023-04-08T16:56:45.571Z"
   },
   {
    "duration": 32,
    "start_time": "2023-04-08T16:56:45.620Z"
   },
   {
    "duration": 11,
    "start_time": "2023-04-08T16:56:45.654Z"
   },
   {
    "duration": 300,
    "start_time": "2023-04-08T16:56:45.667Z"
   },
   {
    "duration": 196,
    "start_time": "2023-04-08T16:56:45.969Z"
   },
   {
    "duration": 15,
    "start_time": "2023-04-08T16:56:46.168Z"
   },
   {
    "duration": 51,
    "start_time": "2023-04-08T16:56:46.186Z"
   },
   {
    "duration": 457,
    "start_time": "2023-04-08T16:56:46.241Z"
   },
   {
    "duration": 296,
    "start_time": "2023-04-08T16:56:46.700Z"
   },
   {
    "duration": 412,
    "start_time": "2023-04-08T16:56:47.001Z"
   },
   {
    "duration": 7,
    "start_time": "2023-04-08T16:56:47.430Z"
   },
   {
    "duration": 241,
    "start_time": "2023-04-08T16:56:47.439Z"
   },
   {
    "duration": 304,
    "start_time": "2023-04-08T16:56:47.689Z"
   },
   {
    "duration": 5,
    "start_time": "2023-04-08T16:56:47.995Z"
   },
   {
    "duration": 250,
    "start_time": "2023-04-08T16:56:48.002Z"
   },
   {
    "duration": 5,
    "start_time": "2023-04-08T16:56:48.254Z"
   },
   {
    "duration": 9,
    "start_time": "2023-04-08T16:56:48.260Z"
   },
   {
    "duration": 8,
    "start_time": "2023-04-08T16:56:48.271Z"
   },
   {
    "duration": 74,
    "start_time": "2023-04-08T16:56:48.280Z"
   },
   {
    "duration": 9,
    "start_time": "2023-04-08T16:56:54.908Z"
   },
   {
    "duration": 22,
    "start_time": "2023-04-08T16:58:08.785Z"
   },
   {
    "duration": 8,
    "start_time": "2023-04-08T16:58:44.234Z"
   },
   {
    "duration": 14,
    "start_time": "2023-04-08T16:59:01.314Z"
   },
   {
    "duration": 10,
    "start_time": "2023-04-08T16:59:08.811Z"
   },
   {
    "duration": 7,
    "start_time": "2023-04-08T16:59:47.176Z"
   },
   {
    "duration": 12,
    "start_time": "2023-04-08T16:59:52.413Z"
   },
   {
    "duration": 119,
    "start_time": "2023-04-08T17:02:24.147Z"
   },
   {
    "duration": 3,
    "start_time": "2023-04-08T17:02:40.951Z"
   },
   {
    "duration": 29,
    "start_time": "2023-04-08T17:02:45.343Z"
   },
   {
    "duration": 6,
    "start_time": "2023-04-08T17:03:17.633Z"
   },
   {
    "duration": 17,
    "start_time": "2023-04-08T17:03:19.386Z"
   },
   {
    "duration": 58,
    "start_time": "2023-04-08T17:03:21.582Z"
   },
   {
    "duration": 40,
    "start_time": "2023-04-08T17:03:50.022Z"
   },
   {
    "duration": 14,
    "start_time": "2023-04-08T17:08:06.510Z"
   },
   {
    "duration": 9,
    "start_time": "2023-04-08T17:10:11.775Z"
   },
   {
    "duration": 11,
    "start_time": "2023-04-08T17:10:53.545Z"
   },
   {
    "duration": 8,
    "start_time": "2023-04-08T17:13:09.627Z"
   },
   {
    "duration": 10,
    "start_time": "2023-04-08T17:13:14.787Z"
   },
   {
    "duration": 10,
    "start_time": "2023-04-08T17:13:32.363Z"
   },
   {
    "duration": 6,
    "start_time": "2023-04-08T17:15:16.212Z"
   },
   {
    "duration": 10,
    "start_time": "2023-04-08T17:15:57.213Z"
   },
   {
    "duration": 26,
    "start_time": "2023-04-08T17:16:20.155Z"
   },
   {
    "duration": 25,
    "start_time": "2023-04-08T17:16:29.314Z"
   },
   {
    "duration": 25,
    "start_time": "2023-04-08T17:16:34.540Z"
   },
   {
    "duration": 2405,
    "start_time": "2023-04-08T17:17:42.802Z"
   },
   {
    "duration": 12,
    "start_time": "2023-04-08T17:17:59.025Z"
   },
   {
    "duration": 1592,
    "start_time": "2023-04-08T17:18:33.713Z"
   },
   {
    "duration": 31,
    "start_time": "2023-04-08T17:18:43.564Z"
   },
   {
    "duration": 9,
    "start_time": "2023-04-08T17:24:29.243Z"
   },
   {
    "duration": 335,
    "start_time": "2023-04-08T17:26:39.286Z"
   },
   {
    "duration": 19,
    "start_time": "2023-04-08T17:27:07.658Z"
   },
   {
    "duration": 383,
    "start_time": "2023-04-08T17:27:51.070Z"
   },
   {
    "duration": 430,
    "start_time": "2023-04-08T17:28:08.267Z"
   },
   {
    "duration": 292,
    "start_time": "2023-04-08T17:28:23.937Z"
   },
   {
    "duration": 378,
    "start_time": "2023-04-08T17:28:30.673Z"
   },
   {
    "duration": 375,
    "start_time": "2023-04-08T17:28:35.972Z"
   },
   {
    "duration": 380,
    "start_time": "2023-04-08T17:28:57.967Z"
   },
   {
    "duration": 21,
    "start_time": "2023-04-08T17:33:59.664Z"
   },
   {
    "duration": 11,
    "start_time": "2023-04-08T17:34:10.302Z"
   },
   {
    "duration": 6,
    "start_time": "2023-04-08T17:34:36.116Z"
   },
   {
    "duration": 10,
    "start_time": "2023-04-08T17:43:42.220Z"
   },
   {
    "duration": 10,
    "start_time": "2023-04-08T17:44:00.271Z"
   },
   {
    "duration": 9,
    "start_time": "2023-04-08T17:44:01.424Z"
   },
   {
    "duration": 324,
    "start_time": "2023-04-09T08:35:23.411Z"
   },
   {
    "duration": 1178,
    "start_time": "2023-04-09T08:35:28.899Z"
   },
   {
    "duration": 59,
    "start_time": "2023-04-09T08:35:30.079Z"
   },
   {
    "duration": 11,
    "start_time": "2023-04-09T08:35:30.139Z"
   },
   {
    "duration": 26,
    "start_time": "2023-04-09T08:35:30.152Z"
   },
   {
    "duration": 127,
    "start_time": "2023-04-09T08:35:30.179Z"
   },
   {
    "duration": 10,
    "start_time": "2023-04-09T08:35:30.308Z"
   },
   {
    "duration": 27,
    "start_time": "2023-04-09T08:35:30.320Z"
   },
   {
    "duration": 37,
    "start_time": "2023-04-09T08:35:30.348Z"
   },
   {
    "duration": 35,
    "start_time": "2023-04-09T08:35:30.387Z"
   },
   {
    "duration": 180,
    "start_time": "2023-04-09T08:35:30.424Z"
   },
   {
    "duration": 117,
    "start_time": "2023-04-09T08:35:30.606Z"
   },
   {
    "duration": 18,
    "start_time": "2023-04-09T08:35:30.724Z"
   },
   {
    "duration": 38,
    "start_time": "2023-04-09T08:35:30.744Z"
   },
   {
    "duration": 280,
    "start_time": "2023-04-09T08:35:30.784Z"
   },
   {
    "duration": 192,
    "start_time": "2023-04-09T08:35:31.066Z"
   },
   {
    "duration": 312,
    "start_time": "2023-04-09T08:35:31.259Z"
   },
   {
    "duration": 6,
    "start_time": "2023-04-09T08:35:31.572Z"
   },
   {
    "duration": 212,
    "start_time": "2023-04-09T08:35:31.580Z"
   },
   {
    "duration": 46,
    "start_time": "2023-04-09T08:35:31.793Z"
   },
   {
    "duration": 0,
    "start_time": "2023-04-09T08:35:31.841Z"
   },
   {
    "duration": 0,
    "start_time": "2023-04-09T08:35:31.841Z"
   },
   {
    "duration": 0,
    "start_time": "2023-04-09T08:35:31.842Z"
   },
   {
    "duration": 0,
    "start_time": "2023-04-09T08:35:31.843Z"
   },
   {
    "duration": 0,
    "start_time": "2023-04-09T08:35:31.844Z"
   },
   {
    "duration": 0,
    "start_time": "2023-04-09T08:35:31.845Z"
   },
   {
    "duration": 0,
    "start_time": "2023-04-09T08:35:31.846Z"
   },
   {
    "duration": 0,
    "start_time": "2023-04-09T08:35:31.847Z"
   },
   {
    "duration": 0,
    "start_time": "2023-04-09T08:35:31.848Z"
   },
   {
    "duration": 0,
    "start_time": "2023-04-09T08:35:31.850Z"
   },
   {
    "duration": 0,
    "start_time": "2023-04-09T08:35:31.851Z"
   },
   {
    "duration": 0,
    "start_time": "2023-04-09T08:35:31.852Z"
   },
   {
    "duration": 0,
    "start_time": "2023-04-09T08:35:31.854Z"
   },
   {
    "duration": 0,
    "start_time": "2023-04-09T08:35:31.855Z"
   },
   {
    "duration": 0,
    "start_time": "2023-04-09T08:35:31.856Z"
   },
   {
    "duration": 310,
    "start_time": "2023-04-09T08:35:51.324Z"
   },
   {
    "duration": 1005,
    "start_time": "2023-04-09T08:35:57.150Z"
   },
   {
    "duration": 29,
    "start_time": "2023-04-09T08:35:58.156Z"
   },
   {
    "duration": 11,
    "start_time": "2023-04-09T08:35:58.186Z"
   },
   {
    "duration": 23,
    "start_time": "2023-04-09T08:35:58.198Z"
   },
   {
    "duration": 40,
    "start_time": "2023-04-09T08:35:58.223Z"
   },
   {
    "duration": 10,
    "start_time": "2023-04-09T08:35:58.265Z"
   },
   {
    "duration": 24,
    "start_time": "2023-04-09T08:35:58.277Z"
   },
   {
    "duration": 37,
    "start_time": "2023-04-09T08:35:58.302Z"
   },
   {
    "duration": 12,
    "start_time": "2023-04-09T08:35:58.340Z"
   },
   {
    "duration": 180,
    "start_time": "2023-04-09T08:35:58.355Z"
   },
   {
    "duration": 117,
    "start_time": "2023-04-09T08:35:58.537Z"
   },
   {
    "duration": 12,
    "start_time": "2023-04-09T08:35:58.656Z"
   },
   {
    "duration": 8,
    "start_time": "2023-04-09T08:35:58.669Z"
   },
   {
    "duration": 278,
    "start_time": "2023-04-09T08:35:58.679Z"
   },
   {
    "duration": 184,
    "start_time": "2023-04-09T08:35:58.958Z"
   },
   {
    "duration": 301,
    "start_time": "2023-04-09T08:35:59.144Z"
   },
   {
    "duration": 5,
    "start_time": "2023-04-09T08:35:59.446Z"
   },
   {
    "duration": 193,
    "start_time": "2023-04-09T08:35:59.453Z"
   },
   {
    "duration": 318,
    "start_time": "2023-04-09T08:35:59.648Z"
   },
   {
    "duration": 231,
    "start_time": "2023-04-09T08:35:59.968Z"
   },
   {
    "duration": 5,
    "start_time": "2023-04-09T08:36:00.200Z"
   },
   {
    "duration": 159,
    "start_time": "2023-04-09T08:36:00.206Z"
   },
   {
    "duration": 5,
    "start_time": "2023-04-09T08:36:00.366Z"
   },
   {
    "duration": 18,
    "start_time": "2023-04-09T08:36:00.372Z"
   },
   {
    "duration": 24,
    "start_time": "2023-04-09T08:36:00.391Z"
   },
   {
    "duration": 42,
    "start_time": "2023-04-09T08:36:00.416Z"
   },
   {
    "duration": 53,
    "start_time": "2023-04-09T08:36:00.460Z"
   },
   {
    "duration": 21,
    "start_time": "2023-04-09T08:36:00.516Z"
   },
   {
    "duration": 15,
    "start_time": "2023-04-09T08:36:00.543Z"
   },
   {
    "duration": 41,
    "start_time": "2023-04-09T08:36:00.560Z"
   },
   {
    "duration": 67,
    "start_time": "2023-04-09T08:36:00.603Z"
   },
   {
    "duration": 38,
    "start_time": "2023-04-09T08:36:00.671Z"
   },
   {
    "duration": 37,
    "start_time": "2023-04-09T08:36:00.711Z"
   },
   {
    "duration": 51,
    "start_time": "2023-04-09T08:36:00.750Z"
   },
   {
    "duration": 16,
    "start_time": "2023-04-09T08:49:30.176Z"
   },
   {
    "duration": 17,
    "start_time": "2023-04-09T08:49:45.568Z"
   },
   {
    "duration": 11,
    "start_time": "2023-04-09T08:51:44.619Z"
   },
   {
    "duration": 11,
    "start_time": "2023-04-09T08:52:08.354Z"
   },
   {
    "duration": 10,
    "start_time": "2023-04-09T08:52:12.466Z"
   },
   {
    "duration": 10,
    "start_time": "2023-04-09T08:54:05.874Z"
   },
   {
    "duration": 9,
    "start_time": "2023-04-09T08:54:15.511Z"
   },
   {
    "duration": 6,
    "start_time": "2023-04-09T09:00:29.091Z"
   },
   {
    "duration": 5,
    "start_time": "2023-04-09T09:01:27.489Z"
   },
   {
    "duration": 14,
    "start_time": "2023-04-09T09:14:48.514Z"
   },
   {
    "duration": 979,
    "start_time": "2023-04-09T09:47:00.684Z"
   },
   {
    "duration": 30,
    "start_time": "2023-04-09T09:47:01.665Z"
   },
   {
    "duration": 15,
    "start_time": "2023-04-09T09:47:01.697Z"
   },
   {
    "duration": 32,
    "start_time": "2023-04-09T09:47:01.714Z"
   },
   {
    "duration": 56,
    "start_time": "2023-04-09T09:47:01.747Z"
   },
   {
    "duration": 11,
    "start_time": "2023-04-09T09:47:01.804Z"
   },
   {
    "duration": 52,
    "start_time": "2023-04-09T09:47:01.817Z"
   },
   {
    "duration": 36,
    "start_time": "2023-04-09T09:47:01.871Z"
   },
   {
    "duration": 33,
    "start_time": "2023-04-09T09:47:01.908Z"
   },
   {
    "duration": 177,
    "start_time": "2023-04-09T09:47:01.944Z"
   },
   {
    "duration": 119,
    "start_time": "2023-04-09T09:47:02.123Z"
   },
   {
    "duration": 10,
    "start_time": "2023-04-09T09:47:02.244Z"
   },
   {
    "duration": 32,
    "start_time": "2023-04-09T09:47:02.255Z"
   },
   {
    "duration": 310,
    "start_time": "2023-04-09T09:47:02.288Z"
   },
   {
    "duration": 189,
    "start_time": "2023-04-09T09:47:02.600Z"
   },
   {
    "duration": 272,
    "start_time": "2023-04-09T09:47:02.791Z"
   },
   {
    "duration": 5,
    "start_time": "2023-04-09T09:47:03.065Z"
   },
   {
    "duration": 175,
    "start_time": "2023-04-09T09:47:03.071Z"
   },
   {
    "duration": 280,
    "start_time": "2023-04-09T09:47:03.247Z"
   },
   {
    "duration": 237,
    "start_time": "2023-04-09T09:47:03.528Z"
   },
   {
    "duration": 4,
    "start_time": "2023-04-09T09:47:03.766Z"
   },
   {
    "duration": 148,
    "start_time": "2023-04-09T09:47:03.772Z"
   },
   {
    "duration": 4,
    "start_time": "2023-04-09T09:47:03.921Z"
   },
   {
    "duration": 17,
    "start_time": "2023-04-09T09:47:03.926Z"
   },
   {
    "duration": 9,
    "start_time": "2023-04-09T09:47:03.944Z"
   },
   {
    "duration": 22,
    "start_time": "2023-04-09T09:47:03.955Z"
   },
   {
    "duration": 8,
    "start_time": "2023-04-09T09:47:03.978Z"
   },
   {
    "duration": 12,
    "start_time": "2023-04-09T09:47:03.989Z"
   },
   {
    "duration": 9,
    "start_time": "2023-04-09T09:47:04.003Z"
   },
   {
    "duration": 41,
    "start_time": "2023-04-09T09:47:04.013Z"
   },
   {
    "duration": 8,
    "start_time": "2023-04-09T09:47:04.055Z"
   },
   {
    "duration": 13,
    "start_time": "2023-04-09T09:47:04.064Z"
   },
   {
    "duration": 1123,
    "start_time": "2023-04-09T15:34:53.388Z"
   },
   {
    "duration": 82,
    "start_time": "2023-04-09T15:34:54.513Z"
   },
   {
    "duration": 13,
    "start_time": "2023-04-09T15:34:54.596Z"
   },
   {
    "duration": 13,
    "start_time": "2023-04-09T15:34:54.610Z"
   },
   {
    "duration": 139,
    "start_time": "2023-04-09T15:34:54.624Z"
   },
   {
    "duration": 15,
    "start_time": "2023-04-09T15:34:54.764Z"
   },
   {
    "duration": 18,
    "start_time": "2023-04-09T15:34:54.780Z"
   },
   {
    "duration": 29,
    "start_time": "2023-04-09T15:34:54.800Z"
   },
   {
    "duration": 14,
    "start_time": "2023-04-09T15:34:54.831Z"
   },
   {
    "duration": 174,
    "start_time": "2023-04-09T15:34:54.848Z"
   },
   {
    "duration": 141,
    "start_time": "2023-04-09T15:34:55.023Z"
   },
   {
    "duration": 13,
    "start_time": "2023-04-09T15:34:55.166Z"
   },
   {
    "duration": 15,
    "start_time": "2023-04-09T15:34:55.181Z"
   },
   {
    "duration": 315,
    "start_time": "2023-04-09T15:34:55.198Z"
   },
   {
    "duration": 234,
    "start_time": "2023-04-09T15:34:55.515Z"
   },
   {
    "duration": 350,
    "start_time": "2023-04-09T15:34:55.751Z"
   },
   {
    "duration": 5,
    "start_time": "2023-04-09T15:34:56.103Z"
   },
   {
    "duration": 228,
    "start_time": "2023-04-09T15:34:56.110Z"
   },
   {
    "duration": 351,
    "start_time": "2023-04-09T15:34:56.341Z"
   },
   {
    "duration": 308,
    "start_time": "2023-04-09T15:34:56.694Z"
   },
   {
    "duration": 7,
    "start_time": "2023-04-09T15:34:57.004Z"
   },
   {
    "duration": 247,
    "start_time": "2023-04-09T15:34:57.013Z"
   },
   {
    "duration": 5,
    "start_time": "2023-04-09T15:34:57.262Z"
   },
   {
    "duration": 9,
    "start_time": "2023-04-09T15:34:57.268Z"
   },
   {
    "duration": 13,
    "start_time": "2023-04-09T15:34:57.278Z"
   },
   {
    "duration": 43,
    "start_time": "2023-04-09T15:34:57.292Z"
   },
   {
    "duration": 12,
    "start_time": "2023-04-09T15:34:57.337Z"
   },
   {
    "duration": 16,
    "start_time": "2023-04-09T15:34:57.354Z"
   },
   {
    "duration": 10,
    "start_time": "2023-04-09T15:34:57.372Z"
   },
   {
    "duration": 28,
    "start_time": "2023-04-09T15:34:57.384Z"
   },
   {
    "duration": 15,
    "start_time": "2023-04-09T15:34:57.433Z"
   },
   {
    "duration": 17,
    "start_time": "2023-04-09T15:34:57.450Z"
   },
   {
    "duration": 8,
    "start_time": "2023-04-09T15:50:42.881Z"
   },
   {
    "duration": 10,
    "start_time": "2023-04-09T15:51:01.221Z"
   },
   {
    "duration": 1328,
    "start_time": "2023-04-10T09:37:35.688Z"
   },
   {
    "duration": 66,
    "start_time": "2023-04-10T09:37:37.018Z"
   },
   {
    "duration": 12,
    "start_time": "2023-04-10T09:37:37.085Z"
   },
   {
    "duration": 5,
    "start_time": "2023-04-10T09:37:37.098Z"
   },
   {
    "duration": 119,
    "start_time": "2023-04-10T09:37:37.105Z"
   },
   {
    "duration": 15,
    "start_time": "2023-04-10T09:37:37.226Z"
   },
   {
    "duration": 43,
    "start_time": "2023-04-10T09:37:37.243Z"
   },
   {
    "duration": 20,
    "start_time": "2023-04-10T09:37:37.288Z"
   },
   {
    "duration": 24,
    "start_time": "2023-04-10T09:37:37.309Z"
   },
   {
    "duration": 162,
    "start_time": "2023-04-10T09:37:37.334Z"
   },
   {
    "duration": 147,
    "start_time": "2023-04-10T09:37:37.498Z"
   },
   {
    "duration": 23,
    "start_time": "2023-04-10T09:37:37.646Z"
   },
   {
    "duration": 9,
    "start_time": "2023-04-10T09:37:37.671Z"
   },
   {
    "duration": 295,
    "start_time": "2023-04-10T09:37:37.682Z"
   },
   {
    "duration": 211,
    "start_time": "2023-04-10T09:37:37.979Z"
   },
   {
    "duration": 491,
    "start_time": "2023-04-10T09:37:38.193Z"
   },
   {
    "duration": 6,
    "start_time": "2023-04-10T09:37:38.686Z"
   },
   {
    "duration": 403,
    "start_time": "2023-04-10T09:37:38.694Z"
   },
   {
    "duration": 564,
    "start_time": "2023-04-10T09:37:39.098Z"
   },
   {
    "duration": 442,
    "start_time": "2023-04-10T09:37:39.664Z"
   },
   {
    "duration": 5,
    "start_time": "2023-04-10T09:37:40.163Z"
   },
   {
    "duration": 264,
    "start_time": "2023-04-10T09:37:40.169Z"
   },
   {
    "duration": 5,
    "start_time": "2023-04-10T09:37:40.435Z"
   },
   {
    "duration": 20,
    "start_time": "2023-04-10T09:37:40.441Z"
   },
   {
    "duration": 13,
    "start_time": "2023-04-10T09:37:40.463Z"
   },
   {
    "duration": 28,
    "start_time": "2023-04-10T09:37:40.477Z"
   },
   {
    "duration": 11,
    "start_time": "2023-04-10T09:37:40.507Z"
   },
   {
    "duration": 10,
    "start_time": "2023-04-10T09:37:40.520Z"
   },
   {
    "duration": 34,
    "start_time": "2023-04-10T09:37:40.532Z"
   },
   {
    "duration": 30,
    "start_time": "2023-04-10T09:37:40.568Z"
   },
   {
    "duration": 11,
    "start_time": "2023-04-10T09:37:40.600Z"
   },
   {
    "duration": 24,
    "start_time": "2023-04-10T09:37:40.612Z"
   },
   {
    "duration": 13,
    "start_time": "2023-04-10T09:37:59.373Z"
   },
   {
    "duration": 99,
    "start_time": "2023-04-10T09:38:06.034Z"
   },
   {
    "duration": 14,
    "start_time": "2023-04-10T09:38:10.844Z"
   },
   {
    "duration": 12,
    "start_time": "2023-04-10T09:38:41.306Z"
   },
   {
    "duration": 13,
    "start_time": "2023-04-10T09:38:48.526Z"
   },
   {
    "duration": 12,
    "start_time": "2023-04-10T09:39:02.844Z"
   },
   {
    "duration": 27,
    "start_time": "2023-04-10T09:39:06.659Z"
   },
   {
    "duration": 14,
    "start_time": "2023-04-10T09:44:17.661Z"
   },
   {
    "duration": 12,
    "start_time": "2023-04-10T09:44:53.048Z"
   },
   {
    "duration": 13,
    "start_time": "2023-04-10T09:44:57.497Z"
   },
   {
    "duration": 16,
    "start_time": "2023-04-10T09:45:06.125Z"
   },
   {
    "duration": 772,
    "start_time": "2023-04-10T09:45:08.353Z"
   },
   {
    "duration": 1066,
    "start_time": "2023-04-10T09:45:18.916Z"
   },
   {
    "duration": 32,
    "start_time": "2023-04-10T09:45:19.984Z"
   },
   {
    "duration": 14,
    "start_time": "2023-04-10T09:45:20.017Z"
   },
   {
    "duration": 14,
    "start_time": "2023-04-10T09:45:20.033Z"
   },
   {
    "duration": 832,
    "start_time": "2023-04-10T09:45:20.048Z"
   },
   {
    "duration": 0,
    "start_time": "2023-04-10T09:45:20.882Z"
   },
   {
    "duration": 0,
    "start_time": "2023-04-10T09:45:20.883Z"
   },
   {
    "duration": 0,
    "start_time": "2023-04-10T09:45:20.884Z"
   },
   {
    "duration": 0,
    "start_time": "2023-04-10T09:45:20.885Z"
   },
   {
    "duration": 0,
    "start_time": "2023-04-10T09:45:20.886Z"
   },
   {
    "duration": 0,
    "start_time": "2023-04-10T09:45:20.887Z"
   },
   {
    "duration": 0,
    "start_time": "2023-04-10T09:45:20.888Z"
   },
   {
    "duration": 0,
    "start_time": "2023-04-10T09:45:20.889Z"
   },
   {
    "duration": 0,
    "start_time": "2023-04-10T09:45:20.890Z"
   },
   {
    "duration": 0,
    "start_time": "2023-04-10T09:45:20.891Z"
   },
   {
    "duration": 0,
    "start_time": "2023-04-10T09:45:20.892Z"
   },
   {
    "duration": 0,
    "start_time": "2023-04-10T09:45:20.893Z"
   },
   {
    "duration": 0,
    "start_time": "2023-04-10T09:45:20.894Z"
   },
   {
    "duration": 0,
    "start_time": "2023-04-10T09:45:20.895Z"
   },
   {
    "duration": 0,
    "start_time": "2023-04-10T09:45:20.896Z"
   },
   {
    "duration": 0,
    "start_time": "2023-04-10T09:45:20.897Z"
   },
   {
    "duration": 0,
    "start_time": "2023-04-10T09:45:20.898Z"
   },
   {
    "duration": 0,
    "start_time": "2023-04-10T09:45:20.899Z"
   },
   {
    "duration": 0,
    "start_time": "2023-04-10T09:45:20.899Z"
   },
   {
    "duration": 0,
    "start_time": "2023-04-10T09:45:20.901Z"
   },
   {
    "duration": 0,
    "start_time": "2023-04-10T09:45:20.902Z"
   },
   {
    "duration": 0,
    "start_time": "2023-04-10T09:45:20.903Z"
   },
   {
    "duration": 0,
    "start_time": "2023-04-10T09:45:20.904Z"
   },
   {
    "duration": 0,
    "start_time": "2023-04-10T09:45:20.905Z"
   },
   {
    "duration": 0,
    "start_time": "2023-04-10T09:45:20.905Z"
   },
   {
    "duration": 0,
    "start_time": "2023-04-10T09:45:20.906Z"
   },
   {
    "duration": 0,
    "start_time": "2023-04-10T09:45:20.907Z"
   },
   {
    "duration": 0,
    "start_time": "2023-04-10T09:45:20.908Z"
   },
   {
    "duration": 4,
    "start_time": "2023-04-10T09:47:14.506Z"
   },
   {
    "duration": 12,
    "start_time": "2023-04-10T09:47:20.512Z"
   },
   {
    "duration": 14,
    "start_time": "2023-04-10T09:47:50.822Z"
   },
   {
    "duration": 48,
    "start_time": "2023-04-10T09:48:41.760Z"
   },
   {
    "duration": 12,
    "start_time": "2023-04-10T09:48:44.683Z"
   },
   {
    "duration": 7,
    "start_time": "2023-04-10T09:49:00.224Z"
   },
   {
    "duration": 17,
    "start_time": "2023-04-10T09:49:05.645Z"
   },
   {
    "duration": 15,
    "start_time": "2023-04-10T09:49:28.020Z"
   },
   {
    "duration": 17,
    "start_time": "2023-04-10T09:50:06.508Z"
   },
   {
    "duration": 9,
    "start_time": "2023-04-10T09:52:03.315Z"
   },
   {
    "duration": 1121,
    "start_time": "2023-04-10T09:52:09.276Z"
   },
   {
    "duration": 33,
    "start_time": "2023-04-10T09:52:10.399Z"
   },
   {
    "duration": 12,
    "start_time": "2023-04-10T09:52:10.434Z"
   },
   {
    "duration": 14,
    "start_time": "2023-04-10T09:52:10.448Z"
   },
   {
    "duration": 17,
    "start_time": "2023-04-10T09:52:10.464Z"
   },
   {
    "duration": 41,
    "start_time": "2023-04-10T09:52:10.482Z"
   },
   {
    "duration": 11,
    "start_time": "2023-04-10T09:52:10.525Z"
   },
   {
    "duration": 11,
    "start_time": "2023-04-10T09:52:10.537Z"
   },
   {
    "duration": 16,
    "start_time": "2023-04-10T09:52:10.550Z"
   },
   {
    "duration": 6,
    "start_time": "2023-04-10T09:52:10.568Z"
   },
   {
    "duration": 6,
    "start_time": "2023-04-10T09:52:10.576Z"
   },
   {
    "duration": 170,
    "start_time": "2023-04-10T09:52:10.583Z"
   },
   {
    "duration": 130,
    "start_time": "2023-04-10T09:52:10.754Z"
   },
   {
    "duration": 12,
    "start_time": "2023-04-10T09:52:10.886Z"
   },
   {
    "duration": 9,
    "start_time": "2023-04-10T09:52:10.900Z"
   },
   {
    "duration": 301,
    "start_time": "2023-04-10T09:52:10.910Z"
   },
   {
    "duration": 225,
    "start_time": "2023-04-10T09:52:11.213Z"
   },
   {
    "duration": 355,
    "start_time": "2023-04-10T09:52:11.440Z"
   },
   {
    "duration": 6,
    "start_time": "2023-04-10T09:52:11.797Z"
   },
   {
    "duration": 458,
    "start_time": "2023-04-10T09:52:11.804Z"
   },
   {
    "duration": 437,
    "start_time": "2023-04-10T09:52:12.264Z"
   },
   {
    "duration": 495,
    "start_time": "2023-04-10T09:52:12.703Z"
   },
   {
    "duration": 5,
    "start_time": "2023-04-10T09:52:13.200Z"
   },
   {
    "duration": 363,
    "start_time": "2023-04-10T09:52:13.206Z"
   },
   {
    "duration": 5,
    "start_time": "2023-04-10T09:52:13.571Z"
   },
   {
    "duration": 15,
    "start_time": "2023-04-10T09:52:13.578Z"
   },
   {
    "duration": 67,
    "start_time": "2023-04-10T09:52:13.595Z"
   },
   {
    "duration": 24,
    "start_time": "2023-04-10T09:52:13.665Z"
   },
   {
    "duration": 11,
    "start_time": "2023-04-10T09:52:13.691Z"
   },
   {
    "duration": 66,
    "start_time": "2023-04-10T09:52:13.703Z"
   },
   {
    "duration": 9,
    "start_time": "2023-04-10T09:52:13.770Z"
   },
   {
    "duration": 23,
    "start_time": "2023-04-10T09:52:13.781Z"
   },
   {
    "duration": 9,
    "start_time": "2023-04-10T09:52:13.862Z"
   },
   {
    "duration": 7,
    "start_time": "2023-04-10T09:52:13.873Z"
   },
   {
    "duration": 4,
    "start_time": "2023-04-10T09:53:09.791Z"
   },
   {
    "duration": 4,
    "start_time": "2023-04-10T09:54:13.545Z"
   },
   {
    "duration": 322,
    "start_time": "2023-04-10T09:54:45.225Z"
   },
   {
    "duration": 1406,
    "start_time": "2023-04-10T09:54:51.675Z"
   },
   {
    "duration": 33,
    "start_time": "2023-04-10T09:54:53.084Z"
   },
   {
    "duration": 56,
    "start_time": "2023-04-10T09:54:53.118Z"
   },
   {
    "duration": 14,
    "start_time": "2023-04-10T09:54:53.176Z"
   },
   {
    "duration": 72,
    "start_time": "2023-04-10T09:54:53.191Z"
   },
   {
    "duration": 41,
    "start_time": "2023-04-10T09:54:53.265Z"
   },
   {
    "duration": 13,
    "start_time": "2023-04-10T09:54:53.307Z"
   },
   {
    "duration": 12,
    "start_time": "2023-04-10T09:54:53.362Z"
   },
   {
    "duration": 22,
    "start_time": "2023-04-10T09:54:53.376Z"
   },
   {
    "duration": 5,
    "start_time": "2023-04-10T09:54:53.401Z"
   },
   {
    "duration": 57,
    "start_time": "2023-04-10T09:54:53.408Z"
   },
   {
    "duration": 26,
    "start_time": "2023-04-10T09:54:53.467Z"
   },
   {
    "duration": 7,
    "start_time": "2023-04-10T09:54:53.495Z"
   },
   {
    "duration": 368,
    "start_time": "2023-04-10T09:54:53.504Z"
   },
   {
    "duration": 322,
    "start_time": "2023-04-10T09:54:53.873Z"
   },
   {
    "duration": 66,
    "start_time": "2023-04-10T09:54:54.197Z"
   },
   {
    "duration": 6,
    "start_time": "2023-04-10T09:54:54.265Z"
   },
   {
    "duration": 471,
    "start_time": "2023-04-10T09:54:54.272Z"
   },
   {
    "duration": 216,
    "start_time": "2023-04-10T09:54:54.745Z"
   },
   {
    "duration": 321,
    "start_time": "2023-04-10T09:54:54.963Z"
   },
   {
    "duration": 6,
    "start_time": "2023-04-10T09:54:55.286Z"
   },
   {
    "duration": 233,
    "start_time": "2023-04-10T09:54:55.293Z"
   },
   {
    "duration": 367,
    "start_time": "2023-04-10T09:54:55.528Z"
   },
   {
    "duration": 246,
    "start_time": "2023-04-10T09:54:55.897Z"
   },
   {
    "duration": 5,
    "start_time": "2023-04-10T09:54:56.145Z"
   },
   {
    "duration": 169,
    "start_time": "2023-04-10T09:54:56.161Z"
   },
   {
    "duration": 6,
    "start_time": "2023-04-10T09:54:56.331Z"
   },
   {
    "duration": 7,
    "start_time": "2023-04-10T09:54:56.340Z"
   },
   {
    "duration": 9,
    "start_time": "2023-04-10T09:54:56.361Z"
   },
   {
    "duration": 27,
    "start_time": "2023-04-10T09:54:56.371Z"
   },
   {
    "duration": 11,
    "start_time": "2023-04-10T09:54:56.400Z"
   },
   {
    "duration": 10,
    "start_time": "2023-04-10T09:54:56.413Z"
   },
   {
    "duration": 37,
    "start_time": "2023-04-10T09:54:56.425Z"
   },
   {
    "duration": 23,
    "start_time": "2023-04-10T09:54:56.464Z"
   },
   {
    "duration": 9,
    "start_time": "2023-04-10T09:54:56.489Z"
   },
   {
    "duration": 8,
    "start_time": "2023-04-10T09:54:56.499Z"
   },
   {
    "duration": 105,
    "start_time": "2023-04-10T09:55:41.757Z"
   },
   {
    "duration": 5,
    "start_time": "2023-04-10T09:55:46.325Z"
   },
   {
    "duration": 10,
    "start_time": "2023-04-10T09:56:05.309Z"
   },
   {
    "duration": 5,
    "start_time": "2023-04-10T09:56:15.178Z"
   },
   {
    "duration": 5,
    "start_time": "2023-04-10T09:57:31.524Z"
   },
   {
    "duration": 10,
    "start_time": "2023-04-10T09:58:19.478Z"
   },
   {
    "duration": 6,
    "start_time": "2023-04-10T09:58:34.868Z"
   },
   {
    "duration": 6,
    "start_time": "2023-04-10T10:00:00.903Z"
   },
   {
    "duration": 5,
    "start_time": "2023-04-10T10:00:58.029Z"
   },
   {
    "duration": 4,
    "start_time": "2023-04-10T10:01:12.786Z"
   },
   {
    "duration": 7,
    "start_time": "2023-04-10T10:03:51.672Z"
   },
   {
    "duration": 11,
    "start_time": "2023-04-10T10:04:07.500Z"
   },
   {
    "duration": 16,
    "start_time": "2023-04-10T10:04:31.246Z"
   },
   {
    "duration": 10,
    "start_time": "2023-04-10T10:06:29.478Z"
   },
   {
    "duration": 14,
    "start_time": "2023-04-10T10:06:34.718Z"
   },
   {
    "duration": 5,
    "start_time": "2023-04-10T10:07:13.945Z"
   },
   {
    "duration": 15,
    "start_time": "2023-04-10T10:10:36.846Z"
   },
   {
    "duration": 20,
    "start_time": "2023-04-10T10:12:18.386Z"
   },
   {
    "duration": 12,
    "start_time": "2023-04-10T10:12:49.900Z"
   },
   {
    "duration": 17,
    "start_time": "2023-04-10T10:12:54.549Z"
   },
   {
    "duration": 20,
    "start_time": "2023-04-10T10:13:17.703Z"
   },
   {
    "duration": 19,
    "start_time": "2023-04-10T10:13:35.340Z"
   },
   {
    "duration": 13,
    "start_time": "2023-04-10T10:13:49.825Z"
   },
   {
    "duration": 14,
    "start_time": "2023-04-10T10:13:57.375Z"
   },
   {
    "duration": 8,
    "start_time": "2023-04-10T10:14:06.917Z"
   },
   {
    "duration": 9,
    "start_time": "2023-04-10T10:26:02.200Z"
   },
   {
    "duration": 15,
    "start_time": "2023-04-10T10:26:09.013Z"
   },
   {
    "duration": 17,
    "start_time": "2023-04-10T10:26:42.200Z"
   },
   {
    "duration": 9,
    "start_time": "2023-04-10T10:29:19.465Z"
   },
   {
    "duration": 10,
    "start_time": "2023-04-10T10:29:31.175Z"
   },
   {
    "duration": 8,
    "start_time": "2023-04-10T10:29:37.800Z"
   },
   {
    "duration": 16,
    "start_time": "2023-04-10T10:30:16.050Z"
   },
   {
    "duration": 8,
    "start_time": "2023-04-10T10:31:25.075Z"
   },
   {
    "duration": 14,
    "start_time": "2023-04-10T10:31:31.670Z"
   },
   {
    "duration": 10,
    "start_time": "2023-04-10T10:31:40.779Z"
   },
   {
    "duration": 16,
    "start_time": "2023-04-10T10:31:46.828Z"
   },
   {
    "duration": 8,
    "start_time": "2023-04-10T10:31:53.569Z"
   },
   {
    "duration": 7,
    "start_time": "2023-04-10T10:31:58.979Z"
   },
   {
    "duration": 10,
    "start_time": "2023-04-10T10:32:01.606Z"
   },
   {
    "duration": 13,
    "start_time": "2023-04-10T10:32:27.546Z"
   },
   {
    "duration": 14,
    "start_time": "2023-04-10T10:32:43.063Z"
   },
   {
    "duration": 7,
    "start_time": "2023-04-10T10:38:18.636Z"
   },
   {
    "duration": 9,
    "start_time": "2023-04-10T10:38:23.188Z"
   },
   {
    "duration": 10,
    "start_time": "2023-04-10T10:38:40.940Z"
   },
   {
    "duration": 8,
    "start_time": "2023-04-10T10:38:48.159Z"
   },
   {
    "duration": 9,
    "start_time": "2023-04-10T10:40:22.831Z"
   },
   {
    "duration": 17,
    "start_time": "2023-04-10T10:40:44.204Z"
   },
   {
    "duration": 16,
    "start_time": "2023-04-10T10:40:52.047Z"
   },
   {
    "duration": 8,
    "start_time": "2023-04-10T10:41:13.473Z"
   },
   {
    "duration": 13,
    "start_time": "2023-04-10T10:47:01.157Z"
   },
   {
    "duration": 8,
    "start_time": "2023-04-10T10:50:15.681Z"
   },
   {
    "duration": 9,
    "start_time": "2023-04-10T10:51:30.052Z"
   },
   {
    "duration": 17,
    "start_time": "2023-04-10T10:51:47.301Z"
   },
   {
    "duration": 10,
    "start_time": "2023-04-10T10:52:48.102Z"
   },
   {
    "duration": 1189,
    "start_time": "2023-04-10T10:52:59.409Z"
   },
   {
    "duration": 34,
    "start_time": "2023-04-10T10:53:00.600Z"
   },
   {
    "duration": 18,
    "start_time": "2023-04-10T10:53:00.637Z"
   },
   {
    "duration": 14,
    "start_time": "2023-04-10T10:53:00.657Z"
   },
   {
    "duration": 37,
    "start_time": "2023-04-10T10:53:00.673Z"
   },
   {
    "duration": 72,
    "start_time": "2023-04-10T10:53:00.712Z"
   },
   {
    "duration": 13,
    "start_time": "2023-04-10T10:53:00.786Z"
   },
   {
    "duration": 26,
    "start_time": "2023-04-10T10:53:00.801Z"
   },
   {
    "duration": 31,
    "start_time": "2023-04-10T10:53:00.829Z"
   },
   {
    "duration": 25,
    "start_time": "2023-04-10T10:53:00.863Z"
   },
   {
    "duration": 27,
    "start_time": "2023-04-10T10:53:00.890Z"
   },
   {
    "duration": 46,
    "start_time": "2023-04-10T10:53:00.919Z"
   },
   {
    "duration": 55,
    "start_time": "2023-04-10T10:53:00.967Z"
   },
   {
    "duration": 32,
    "start_time": "2023-04-10T10:53:01.024Z"
   },
   {
    "duration": 29,
    "start_time": "2023-04-10T10:53:01.058Z"
   },
   {
    "duration": 28,
    "start_time": "2023-04-10T10:53:01.089Z"
   },
   {
    "duration": 48,
    "start_time": "2023-04-10T10:53:01.119Z"
   },
   {
    "duration": 33,
    "start_time": "2023-04-10T10:53:01.170Z"
   },
   {
    "duration": 33,
    "start_time": "2023-04-10T10:53:01.204Z"
   },
   {
    "duration": 31,
    "start_time": "2023-04-10T10:53:01.239Z"
   },
   {
    "duration": 27,
    "start_time": "2023-04-10T10:53:01.272Z"
   },
   {
    "duration": 228,
    "start_time": "2023-04-10T10:53:01.301Z"
   },
   {
    "duration": 130,
    "start_time": "2023-04-10T10:53:01.531Z"
   },
   {
    "duration": 15,
    "start_time": "2023-04-10T10:53:01.663Z"
   },
   {
    "duration": 51,
    "start_time": "2023-04-10T10:53:01.680Z"
   },
   {
    "duration": 296,
    "start_time": "2023-04-10T10:53:01.733Z"
   },
   {
    "duration": 216,
    "start_time": "2023-04-10T10:53:02.031Z"
   },
   {
    "duration": 317,
    "start_time": "2023-04-10T10:53:02.250Z"
   },
   {
    "duration": 5,
    "start_time": "2023-04-10T10:53:02.569Z"
   },
   {
    "duration": 219,
    "start_time": "2023-04-10T10:53:02.576Z"
   },
   {
    "duration": 295,
    "start_time": "2023-04-10T10:53:02.797Z"
   },
   {
    "duration": 252,
    "start_time": "2023-04-10T10:53:03.094Z"
   },
   {
    "duration": 14,
    "start_time": "2023-04-10T10:53:03.348Z"
   },
   {
    "duration": 300,
    "start_time": "2023-04-10T10:53:03.364Z"
   },
   {
    "duration": 5,
    "start_time": "2023-04-10T10:53:03.666Z"
   },
   {
    "duration": 9,
    "start_time": "2023-04-10T10:53:03.673Z"
   },
   {
    "duration": 14,
    "start_time": "2023-04-10T10:53:03.684Z"
   },
   {
    "duration": 66,
    "start_time": "2023-04-10T10:53:03.700Z"
   },
   {
    "duration": 25,
    "start_time": "2023-04-10T10:53:03.768Z"
   },
   {
    "duration": 67,
    "start_time": "2023-04-10T10:53:03.795Z"
   },
   {
    "duration": 10,
    "start_time": "2023-04-10T10:53:03.864Z"
   },
   {
    "duration": 15,
    "start_time": "2023-04-10T10:53:03.876Z"
   },
   {
    "duration": 80,
    "start_time": "2023-04-10T10:53:03.893Z"
   },
   {
    "duration": 11,
    "start_time": "2023-04-10T10:53:03.975Z"
   },
   {
    "duration": 11,
    "start_time": "2023-04-10T10:53:03.988Z"
   },
   {
    "duration": 9,
    "start_time": "2023-04-10T10:53:29.584Z"
   },
   {
    "duration": 197,
    "start_time": "2023-04-10T10:58:36.696Z"
   },
   {
    "duration": 316,
    "start_time": "2023-04-10T10:59:38.096Z"
   },
   {
    "duration": 341,
    "start_time": "2023-04-10T11:00:29.573Z"
   },
   {
    "duration": 210,
    "start_time": "2023-04-10T11:00:44.932Z"
   },
   {
    "duration": 876,
    "start_time": "2023-04-10T11:05:08.642Z"
   },
   {
    "duration": 9,
    "start_time": "2023-04-10T11:05:13.720Z"
   },
   {
    "duration": 211,
    "start_time": "2023-04-10T11:05:15.321Z"
   },
   {
    "duration": 297,
    "start_time": "2023-04-10T11:05:29.695Z"
   },
   {
    "duration": 276,
    "start_time": "2023-04-10T11:06:47.107Z"
   },
   {
    "duration": 306,
    "start_time": "2023-04-10T11:07:40.392Z"
   },
   {
    "duration": 325,
    "start_time": "2023-04-10T11:07:58.356Z"
   },
   {
    "duration": 263,
    "start_time": "2023-04-10T11:11:02.872Z"
   },
   {
    "duration": 156,
    "start_time": "2023-04-10T11:11:10.005Z"
   },
   {
    "duration": 153,
    "start_time": "2023-04-10T11:13:46.430Z"
   },
   {
    "duration": 280,
    "start_time": "2023-04-10T11:14:20.593Z"
   },
   {
    "duration": 152,
    "start_time": "2023-04-10T11:14:26.630Z"
   },
   {
    "duration": 84,
    "start_time": "2023-04-10T11:19:21.192Z"
   },
   {
    "duration": 7,
    "start_time": "2023-04-10T11:22:24.396Z"
   },
   {
    "duration": 63,
    "start_time": "2023-04-10T11:25:26.682Z"
   },
   {
    "duration": 1134,
    "start_time": "2023-04-10T11:27:19.993Z"
   },
   {
    "duration": 32,
    "start_time": "2023-04-10T11:27:21.129Z"
   },
   {
    "duration": 13,
    "start_time": "2023-04-10T11:27:21.162Z"
   },
   {
    "duration": 13,
    "start_time": "2023-04-10T11:27:21.177Z"
   },
   {
    "duration": 31,
    "start_time": "2023-04-10T11:27:21.191Z"
   },
   {
    "duration": 43,
    "start_time": "2023-04-10T11:27:21.223Z"
   },
   {
    "duration": 12,
    "start_time": "2023-04-10T11:27:21.267Z"
   },
   {
    "duration": 18,
    "start_time": "2023-04-10T11:27:21.280Z"
   },
   {
    "duration": 27,
    "start_time": "2023-04-10T11:27:21.299Z"
   },
   {
    "duration": 23,
    "start_time": "2023-04-10T11:27:21.329Z"
   },
   {
    "duration": 11,
    "start_time": "2023-04-10T11:27:21.354Z"
   },
   {
    "duration": 17,
    "start_time": "2023-04-10T11:27:21.367Z"
   },
   {
    "duration": 19,
    "start_time": "2023-04-10T11:27:21.385Z"
   },
   {
    "duration": 15,
    "start_time": "2023-04-10T11:27:21.406Z"
   },
   {
    "duration": 13,
    "start_time": "2023-04-10T11:27:21.423Z"
   },
   {
    "duration": 13,
    "start_time": "2023-04-10T11:27:21.438Z"
   },
   {
    "duration": 13,
    "start_time": "2023-04-10T11:27:21.453Z"
   },
   {
    "duration": 17,
    "start_time": "2023-04-10T11:27:21.468Z"
   },
   {
    "duration": 19,
    "start_time": "2023-04-10T11:27:21.487Z"
   },
   {
    "duration": 6,
    "start_time": "2023-04-10T11:27:21.508Z"
   },
   {
    "duration": 186,
    "start_time": "2023-04-10T11:27:21.516Z"
   },
   {
    "duration": 274,
    "start_time": "2023-04-10T11:27:21.704Z"
   },
   {
    "duration": 13,
    "start_time": "2023-04-10T11:27:21.980Z"
   },
   {
    "duration": 6,
    "start_time": "2023-04-10T11:27:21.995Z"
   },
   {
    "duration": 664,
    "start_time": "2023-04-10T11:27:22.002Z"
   },
   {
    "duration": 421,
    "start_time": "2023-04-10T11:27:22.667Z"
   },
   {
    "duration": 502,
    "start_time": "2023-04-10T11:27:23.089Z"
   },
   {
    "duration": 8,
    "start_time": "2023-04-10T11:27:23.594Z"
   },
   {
    "duration": 229,
    "start_time": "2023-04-10T11:27:23.603Z"
   },
   {
    "duration": 1055,
    "start_time": "2023-04-10T11:27:23.833Z"
   },
   {
    "duration": 0,
    "start_time": "2023-04-10T11:27:24.889Z"
   },
   {
    "duration": 0,
    "start_time": "2023-04-10T11:27:24.890Z"
   },
   {
    "duration": 0,
    "start_time": "2023-04-10T11:27:24.891Z"
   },
   {
    "duration": 0,
    "start_time": "2023-04-10T11:27:24.893Z"
   },
   {
    "duration": 0,
    "start_time": "2023-04-10T11:27:24.894Z"
   },
   {
    "duration": 0,
    "start_time": "2023-04-10T11:27:24.894Z"
   },
   {
    "duration": 0,
    "start_time": "2023-04-10T11:27:24.895Z"
   },
   {
    "duration": 0,
    "start_time": "2023-04-10T11:27:24.897Z"
   },
   {
    "duration": 0,
    "start_time": "2023-04-10T11:27:24.898Z"
   },
   {
    "duration": 0,
    "start_time": "2023-04-10T11:27:24.899Z"
   },
   {
    "duration": 0,
    "start_time": "2023-04-10T11:27:24.900Z"
   },
   {
    "duration": 0,
    "start_time": "2023-04-10T11:27:24.901Z"
   },
   {
    "duration": 0,
    "start_time": "2023-04-10T11:27:24.902Z"
   },
   {
    "duration": 0,
    "start_time": "2023-04-10T11:27:24.903Z"
   },
   {
    "duration": 5,
    "start_time": "2023-04-10T11:27:32.700Z"
   },
   {
    "duration": 322,
    "start_time": "2023-04-10T11:28:41.951Z"
   },
   {
    "duration": 1163,
    "start_time": "2023-04-10T11:28:58.376Z"
   },
   {
    "duration": 33,
    "start_time": "2023-04-10T11:28:59.541Z"
   },
   {
    "duration": 28,
    "start_time": "2023-04-10T11:28:59.576Z"
   },
   {
    "duration": 31,
    "start_time": "2023-04-10T11:28:59.606Z"
   },
   {
    "duration": 47,
    "start_time": "2023-04-10T11:28:59.639Z"
   },
   {
    "duration": 83,
    "start_time": "2023-04-10T11:28:59.688Z"
   },
   {
    "duration": 13,
    "start_time": "2023-04-10T11:28:59.773Z"
   },
   {
    "duration": 36,
    "start_time": "2023-04-10T11:28:59.789Z"
   },
   {
    "duration": 42,
    "start_time": "2023-04-10T11:28:59.827Z"
   },
   {
    "duration": 38,
    "start_time": "2023-04-10T11:28:59.871Z"
   },
   {
    "duration": 37,
    "start_time": "2023-04-10T11:28:59.910Z"
   },
   {
    "duration": 41,
    "start_time": "2023-04-10T11:28:59.949Z"
   },
   {
    "duration": 21,
    "start_time": "2023-04-10T11:28:59.991Z"
   },
   {
    "duration": 37,
    "start_time": "2023-04-10T11:29:00.015Z"
   },
   {
    "duration": 19,
    "start_time": "2023-04-10T11:29:00.054Z"
   },
   {
    "duration": 26,
    "start_time": "2023-04-10T11:29:00.075Z"
   },
   {
    "duration": 25,
    "start_time": "2023-04-10T11:29:00.103Z"
   },
   {
    "duration": 46,
    "start_time": "2023-04-10T11:29:00.130Z"
   },
   {
    "duration": 39,
    "start_time": "2023-04-10T11:29:00.178Z"
   },
   {
    "duration": 35,
    "start_time": "2023-04-10T11:29:00.219Z"
   },
   {
    "duration": 206,
    "start_time": "2023-04-10T11:29:00.256Z"
   },
   {
    "duration": 125,
    "start_time": "2023-04-10T11:29:00.464Z"
   },
   {
    "duration": 11,
    "start_time": "2023-04-10T11:29:00.591Z"
   },
   {
    "duration": 44,
    "start_time": "2023-04-10T11:29:00.604Z"
   },
   {
    "duration": 313,
    "start_time": "2023-04-10T11:29:00.650Z"
   },
   {
    "duration": 226,
    "start_time": "2023-04-10T11:29:00.965Z"
   },
   {
    "duration": 310,
    "start_time": "2023-04-10T11:29:01.192Z"
   },
   {
    "duration": 6,
    "start_time": "2023-04-10T11:29:01.503Z"
   },
   {
    "duration": 226,
    "start_time": "2023-04-10T11:29:01.510Z"
   },
   {
    "duration": 342,
    "start_time": "2023-04-10T11:29:01.737Z"
   },
   {
    "duration": 257,
    "start_time": "2023-04-10T11:29:02.081Z"
   },
   {
    "duration": 5,
    "start_time": "2023-04-10T11:29:02.339Z"
   },
   {
    "duration": 172,
    "start_time": "2023-04-10T11:29:02.345Z"
   },
   {
    "duration": 159,
    "start_time": "2023-04-10T11:29:02.519Z"
   },
   {
    "duration": 4,
    "start_time": "2023-04-10T11:29:02.680Z"
   },
   {
    "duration": 9,
    "start_time": "2023-04-10T11:29:02.686Z"
   },
   {
    "duration": 13,
    "start_time": "2023-04-10T11:29:02.697Z"
   },
   {
    "duration": 23,
    "start_time": "2023-04-10T11:29:02.711Z"
   },
   {
    "duration": 106,
    "start_time": "2023-04-10T11:29:02.736Z"
   },
   {
    "duration": 18,
    "start_time": "2023-04-10T11:29:02.844Z"
   },
   {
    "duration": 8,
    "start_time": "2023-04-10T11:29:02.866Z"
   },
   {
    "duration": 23,
    "start_time": "2023-04-10T11:29:02.875Z"
   },
   {
    "duration": 8,
    "start_time": "2023-04-10T11:29:02.900Z"
   },
   {
    "duration": 13,
    "start_time": "2023-04-10T11:29:02.910Z"
   },
   {
    "duration": 5,
    "start_time": "2023-04-10T11:31:03.727Z"
   },
   {
    "duration": 5,
    "start_time": "2023-04-10T11:31:06.590Z"
   },
   {
    "duration": 6,
    "start_time": "2023-04-10T11:31:11.497Z"
   },
   {
    "duration": 12,
    "start_time": "2023-04-10T11:32:29.015Z"
   },
   {
    "duration": 1152,
    "start_time": "2023-04-10T11:33:24.925Z"
   },
   {
    "duration": 34,
    "start_time": "2023-04-10T11:33:26.079Z"
   },
   {
    "duration": 15,
    "start_time": "2023-04-10T11:33:26.115Z"
   },
   {
    "duration": 21,
    "start_time": "2023-04-10T11:33:26.133Z"
   },
   {
    "duration": 38,
    "start_time": "2023-04-10T11:33:26.157Z"
   },
   {
    "duration": 41,
    "start_time": "2023-04-10T11:33:26.197Z"
   },
   {
    "duration": 13,
    "start_time": "2023-04-10T11:33:26.240Z"
   },
   {
    "duration": 42,
    "start_time": "2023-04-10T11:33:26.255Z"
   },
   {
    "duration": 19,
    "start_time": "2023-04-10T11:33:26.300Z"
   },
   {
    "duration": 21,
    "start_time": "2023-04-10T11:33:26.323Z"
   },
   {
    "duration": 6,
    "start_time": "2023-04-10T11:33:26.347Z"
   },
   {
    "duration": 7,
    "start_time": "2023-04-10T11:33:26.355Z"
   },
   {
    "duration": 6,
    "start_time": "2023-04-10T11:33:26.364Z"
   },
   {
    "duration": 14,
    "start_time": "2023-04-10T11:33:26.385Z"
   },
   {
    "duration": 9,
    "start_time": "2023-04-10T11:33:26.401Z"
   },
   {
    "duration": 15,
    "start_time": "2023-04-10T11:33:26.412Z"
   },
   {
    "duration": 18,
    "start_time": "2023-04-10T11:33:26.429Z"
   },
   {
    "duration": 10,
    "start_time": "2023-04-10T11:33:26.448Z"
   },
   {
    "duration": 26,
    "start_time": "2023-04-10T11:33:26.460Z"
   },
   {
    "duration": 8,
    "start_time": "2023-04-10T11:33:26.488Z"
   },
   {
    "duration": 195,
    "start_time": "2023-04-10T11:33:26.498Z"
   },
   {
    "duration": 149,
    "start_time": "2023-04-10T11:33:26.695Z"
   },
   {
    "duration": 15,
    "start_time": "2023-04-10T11:33:26.846Z"
   },
   {
    "duration": 22,
    "start_time": "2023-04-10T11:33:26.863Z"
   },
   {
    "duration": 319,
    "start_time": "2023-04-10T11:33:26.888Z"
   },
   {
    "duration": 257,
    "start_time": "2023-04-10T11:33:27.209Z"
   },
   {
    "duration": 330,
    "start_time": "2023-04-10T11:33:27.469Z"
   },
   {
    "duration": 6,
    "start_time": "2023-04-10T11:33:27.803Z"
   },
   {
    "duration": 272,
    "start_time": "2023-04-10T11:33:27.810Z"
   },
   {
    "duration": 360,
    "start_time": "2023-04-10T11:33:28.083Z"
   },
   {
    "duration": 251,
    "start_time": "2023-04-10T11:33:28.448Z"
   },
   {
    "duration": 6,
    "start_time": "2023-04-10T11:33:28.700Z"
   },
   {
    "duration": 172,
    "start_time": "2023-04-10T11:33:28.707Z"
   },
   {
    "duration": 170,
    "start_time": "2023-04-10T11:33:28.885Z"
   },
   {
    "duration": 5,
    "start_time": "2023-04-10T11:33:29.057Z"
   },
   {
    "duration": 23,
    "start_time": "2023-04-10T11:33:29.064Z"
   },
   {
    "duration": 8,
    "start_time": "2023-04-10T11:33:29.089Z"
   },
   {
    "duration": 25,
    "start_time": "2023-04-10T11:33:29.099Z"
   },
   {
    "duration": 107,
    "start_time": "2023-04-10T11:33:29.126Z"
   },
   {
    "duration": 14,
    "start_time": "2023-04-10T11:33:29.234Z"
   },
   {
    "duration": 10,
    "start_time": "2023-04-10T11:33:29.250Z"
   },
   {
    "duration": 46,
    "start_time": "2023-04-10T11:33:29.262Z"
   },
   {
    "duration": 9,
    "start_time": "2023-04-10T11:33:29.310Z"
   },
   {
    "duration": 11,
    "start_time": "2023-04-10T11:33:29.321Z"
   },
   {
    "duration": 53,
    "start_time": "2023-04-10T11:51:37.475Z"
   },
   {
    "duration": 1211,
    "start_time": "2023-04-10T11:52:00.059Z"
   },
   {
    "duration": 34,
    "start_time": "2023-04-10T11:52:01.273Z"
   },
   {
    "duration": 36,
    "start_time": "2023-04-10T11:52:01.309Z"
   },
   {
    "duration": 31,
    "start_time": "2023-04-10T11:52:01.347Z"
   },
   {
    "duration": 52,
    "start_time": "2023-04-10T11:52:01.379Z"
   },
   {
    "duration": 71,
    "start_time": "2023-04-10T11:52:01.433Z"
   },
   {
    "duration": 13,
    "start_time": "2023-04-10T11:52:01.506Z"
   },
   {
    "duration": 51,
    "start_time": "2023-04-10T11:52:01.521Z"
   },
   {
    "duration": 40,
    "start_time": "2023-04-10T11:52:01.574Z"
   },
   {
    "duration": 45,
    "start_time": "2023-04-10T11:52:01.618Z"
   },
   {
    "duration": 46,
    "start_time": "2023-04-10T11:52:01.665Z"
   },
   {
    "duration": 36,
    "start_time": "2023-04-10T11:52:01.714Z"
   },
   {
    "duration": 36,
    "start_time": "2023-04-10T11:52:01.752Z"
   },
   {
    "duration": 20,
    "start_time": "2023-04-10T11:52:01.790Z"
   },
   {
    "duration": 30,
    "start_time": "2023-04-10T11:52:01.812Z"
   },
   {
    "duration": 36,
    "start_time": "2023-04-10T11:52:01.845Z"
   },
   {
    "duration": 44,
    "start_time": "2023-04-10T11:52:01.883Z"
   },
   {
    "duration": 32,
    "start_time": "2023-04-10T11:52:01.929Z"
   },
   {
    "duration": 47,
    "start_time": "2023-04-10T11:52:01.963Z"
   },
   {
    "duration": 16,
    "start_time": "2023-04-10T11:52:02.013Z"
   },
   {
    "duration": 202,
    "start_time": "2023-04-10T11:52:02.031Z"
   },
   {
    "duration": 136,
    "start_time": "2023-04-10T11:52:02.235Z"
   },
   {
    "duration": 22,
    "start_time": "2023-04-10T11:52:02.372Z"
   },
   {
    "duration": 12,
    "start_time": "2023-04-10T11:52:02.396Z"
   },
   {
    "duration": 348,
    "start_time": "2023-04-10T11:52:02.410Z"
   },
   {
    "duration": 241,
    "start_time": "2023-04-10T11:52:02.760Z"
   },
   {
    "duration": 335,
    "start_time": "2023-04-10T11:52:03.003Z"
   },
   {
    "duration": 5,
    "start_time": "2023-04-10T11:52:03.342Z"
   },
   {
    "duration": 227,
    "start_time": "2023-04-10T11:52:03.349Z"
   },
   {
    "duration": 339,
    "start_time": "2023-04-10T11:52:03.578Z"
   },
   {
    "duration": 368,
    "start_time": "2023-04-10T11:52:03.919Z"
   },
   {
    "duration": 5,
    "start_time": "2023-04-10T11:52:04.289Z"
   },
   {
    "duration": 192,
    "start_time": "2023-04-10T11:52:04.296Z"
   },
   {
    "duration": 178,
    "start_time": "2023-04-10T11:52:04.490Z"
   },
   {
    "duration": 16,
    "start_time": "2023-04-10T11:52:04.670Z"
   },
   {
    "duration": 7,
    "start_time": "2023-04-10T11:52:04.688Z"
   },
   {
    "duration": 12,
    "start_time": "2023-04-10T11:52:04.696Z"
   },
   {
    "duration": 24,
    "start_time": "2023-04-10T11:52:04.710Z"
   },
   {
    "duration": 111,
    "start_time": "2023-04-10T11:52:04.736Z"
   },
   {
    "duration": 12,
    "start_time": "2023-04-10T11:52:04.849Z"
   },
   {
    "duration": 29,
    "start_time": "2023-04-10T11:52:04.863Z"
   },
   {
    "duration": 30,
    "start_time": "2023-04-10T11:52:04.894Z"
   },
   {
    "duration": 12,
    "start_time": "2023-04-10T11:52:04.926Z"
   },
   {
    "duration": 10,
    "start_time": "2023-04-10T11:52:04.940Z"
   },
   {
    "duration": 1130,
    "start_time": "2023-04-10T11:57:40.493Z"
   },
   {
    "duration": 33,
    "start_time": "2023-04-10T11:57:41.625Z"
   },
   {
    "duration": 16,
    "start_time": "2023-04-10T11:57:41.661Z"
   },
   {
    "duration": 14,
    "start_time": "2023-04-10T11:57:41.684Z"
   },
   {
    "duration": 20,
    "start_time": "2023-04-10T11:57:41.700Z"
   },
   {
    "duration": 41,
    "start_time": "2023-04-10T11:57:41.721Z"
   },
   {
    "duration": 16,
    "start_time": "2023-04-10T11:57:41.765Z"
   },
   {
    "duration": 14,
    "start_time": "2023-04-10T11:57:41.783Z"
   },
   {
    "duration": 17,
    "start_time": "2023-04-10T11:57:41.799Z"
   },
   {
    "duration": 8,
    "start_time": "2023-04-10T11:57:41.819Z"
   },
   {
    "duration": 6,
    "start_time": "2023-04-10T11:57:41.829Z"
   },
   {
    "duration": 9,
    "start_time": "2023-04-10T11:57:41.836Z"
   },
   {
    "duration": 13,
    "start_time": "2023-04-10T11:57:41.847Z"
   },
   {
    "duration": 12,
    "start_time": "2023-04-10T11:57:41.885Z"
   },
   {
    "duration": 6,
    "start_time": "2023-04-10T11:57:41.899Z"
   },
   {
    "duration": 10,
    "start_time": "2023-04-10T11:57:41.907Z"
   },
   {
    "duration": 15,
    "start_time": "2023-04-10T11:57:41.919Z"
   },
   {
    "duration": 13,
    "start_time": "2023-04-10T11:57:41.936Z"
   },
   {
    "duration": 45,
    "start_time": "2023-04-10T11:57:41.950Z"
   },
   {
    "duration": 7,
    "start_time": "2023-04-10T11:57:41.997Z"
   },
   {
    "duration": 196,
    "start_time": "2023-04-10T11:57:42.005Z"
   },
   {
    "duration": 128,
    "start_time": "2023-04-10T11:57:42.203Z"
   },
   {
    "duration": 13,
    "start_time": "2023-04-10T11:57:42.333Z"
   },
   {
    "duration": 9,
    "start_time": "2023-04-10T11:57:42.349Z"
   },
   {
    "duration": 320,
    "start_time": "2023-04-10T11:57:42.385Z"
   },
   {
    "duration": 237,
    "start_time": "2023-04-10T11:57:42.707Z"
   },
   {
    "duration": 343,
    "start_time": "2023-04-10T11:57:42.946Z"
   },
   {
    "duration": 5,
    "start_time": "2023-04-10T11:57:43.293Z"
   },
   {
    "duration": 221,
    "start_time": "2023-04-10T11:57:43.300Z"
   },
   {
    "duration": 302,
    "start_time": "2023-04-10T11:57:43.523Z"
   },
   {
    "duration": 266,
    "start_time": "2023-04-10T11:57:43.827Z"
   },
   {
    "duration": 5,
    "start_time": "2023-04-10T11:57:44.096Z"
   },
   {
    "duration": 223,
    "start_time": "2023-04-10T11:57:44.102Z"
   },
   {
    "duration": 199,
    "start_time": "2023-04-10T11:57:44.327Z"
   },
   {
    "duration": 6,
    "start_time": "2023-04-10T11:57:44.531Z"
   },
   {
    "duration": 12,
    "start_time": "2023-04-10T11:57:44.539Z"
   },
   {
    "duration": 19,
    "start_time": "2023-04-10T11:57:44.553Z"
   },
   {
    "duration": 36,
    "start_time": "2023-04-10T11:57:44.575Z"
   },
   {
    "duration": 100,
    "start_time": "2023-04-10T11:57:44.613Z"
   },
   {
    "duration": 14,
    "start_time": "2023-04-10T11:57:44.715Z"
   },
   {
    "duration": 10,
    "start_time": "2023-04-10T11:57:44.731Z"
   },
   {
    "duration": 54,
    "start_time": "2023-04-10T11:57:44.743Z"
   },
   {
    "duration": 9,
    "start_time": "2023-04-10T11:57:44.799Z"
   },
   {
    "duration": 9,
    "start_time": "2023-04-10T11:57:44.810Z"
   },
   {
    "duration": 1651,
    "start_time": "2023-04-11T08:14:59.299Z"
   },
   {
    "duration": 98,
    "start_time": "2023-04-11T08:15:00.953Z"
   },
   {
    "duration": 22,
    "start_time": "2023-04-11T08:15:01.054Z"
   },
   {
    "duration": 59,
    "start_time": "2023-04-11T08:15:01.079Z"
   },
   {
    "duration": 134,
    "start_time": "2023-04-11T08:15:01.143Z"
   },
   {
    "duration": 185,
    "start_time": "2023-04-11T08:15:01.279Z"
   },
   {
    "duration": 20,
    "start_time": "2023-04-11T08:15:01.467Z"
   },
   {
    "duration": 48,
    "start_time": "2023-04-11T08:15:01.490Z"
   },
   {
    "duration": 63,
    "start_time": "2023-04-11T08:15:01.541Z"
   },
   {
    "duration": 39,
    "start_time": "2023-04-11T08:15:01.608Z"
   },
   {
    "duration": 48,
    "start_time": "2023-04-11T08:15:01.650Z"
   },
   {
    "duration": 59,
    "start_time": "2023-04-11T08:15:01.701Z"
   },
   {
    "duration": 59,
    "start_time": "2023-04-11T08:15:01.763Z"
   },
   {
    "duration": 97,
    "start_time": "2023-04-11T08:15:01.824Z"
   },
   {
    "duration": 31,
    "start_time": "2023-04-11T08:15:01.923Z"
   },
   {
    "duration": 129,
    "start_time": "2023-04-11T08:15:01.957Z"
   },
   {
    "duration": 43,
    "start_time": "2023-04-11T08:15:02.090Z"
   },
   {
    "duration": 51,
    "start_time": "2023-04-11T08:15:02.135Z"
   },
   {
    "duration": 41,
    "start_time": "2023-04-11T08:15:02.188Z"
   },
   {
    "duration": 53,
    "start_time": "2023-04-11T08:15:02.232Z"
   },
   {
    "duration": 218,
    "start_time": "2023-04-11T08:15:02.287Z"
   },
   {
    "duration": 172,
    "start_time": "2023-04-11T08:15:02.507Z"
   },
   {
    "duration": 18,
    "start_time": "2023-04-11T08:15:02.681Z"
   },
   {
    "duration": 27,
    "start_time": "2023-04-11T08:15:02.701Z"
   },
   {
    "duration": 398,
    "start_time": "2023-04-11T08:15:02.730Z"
   },
   {
    "duration": 278,
    "start_time": "2023-04-11T08:15:03.130Z"
   },
   {
    "duration": 470,
    "start_time": "2023-04-11T08:15:03.410Z"
   },
   {
    "duration": 6,
    "start_time": "2023-04-11T08:15:03.889Z"
   },
   {
    "duration": 332,
    "start_time": "2023-04-11T08:15:03.898Z"
   },
   {
    "duration": 343,
    "start_time": "2023-04-11T08:15:04.232Z"
   },
   {
    "duration": 335,
    "start_time": "2023-04-11T08:15:04.576Z"
   },
   {
    "duration": 6,
    "start_time": "2023-04-11T08:15:04.913Z"
   },
   {
    "duration": 205,
    "start_time": "2023-04-11T08:15:04.921Z"
   },
   {
    "duration": 217,
    "start_time": "2023-04-11T08:15:05.128Z"
   },
   {
    "duration": 7,
    "start_time": "2023-04-11T08:15:05.350Z"
   },
   {
    "duration": 19,
    "start_time": "2023-04-11T08:15:05.360Z"
   },
   {
    "duration": 22,
    "start_time": "2023-04-11T08:15:05.381Z"
   },
   {
    "duration": 57,
    "start_time": "2023-04-11T08:15:05.405Z"
   },
   {
    "duration": 94,
    "start_time": "2023-04-11T08:15:05.464Z"
   },
   {
    "duration": 39,
    "start_time": "2023-04-11T08:15:05.561Z"
   },
   {
    "duration": 29,
    "start_time": "2023-04-11T08:15:05.602Z"
   },
   {
    "duration": 62,
    "start_time": "2023-04-11T08:15:05.633Z"
   },
   {
    "duration": 21,
    "start_time": "2023-04-11T08:15:05.698Z"
   },
   {
    "duration": 41,
    "start_time": "2023-04-11T08:15:05.721Z"
   },
   {
    "duration": 19,
    "start_time": "2023-04-11T08:15:47.439Z"
   },
   {
    "duration": 26,
    "start_time": "2023-04-11T08:17:50.584Z"
   }
  ],
  "kernelspec": {
   "display_name": "Python 3 (ipykernel)",
   "language": "python",
   "name": "python3"
  },
  "language_info": {
   "codemirror_mode": {
    "name": "ipython",
    "version": 3
   },
   "file_extension": ".py",
   "mimetype": "text/x-python",
   "name": "python",
   "nbconvert_exporter": "python",
   "pygments_lexer": "ipython3",
   "version": "3.9.13"
  },
  "toc": {
   "base_numbering": 1,
   "nav_menu": {},
   "number_sections": false,
   "sideBar": true,
   "skip_h1_title": false,
   "title_cell": "Table of Contents",
   "title_sidebar": "Contents",
   "toc_cell": false,
   "toc_position": {
    "height": "calc(100% - 180px)",
    "left": "10px",
    "top": "150px",
    "width": "248.265625px"
   },
   "toc_section_display": true,
   "toc_window_display": true
  }
 },
 "nbformat": 4,
 "nbformat_minor": 2
}
