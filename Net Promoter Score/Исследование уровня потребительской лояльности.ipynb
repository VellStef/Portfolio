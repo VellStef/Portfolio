{
 "cells": [
  {
   "cell_type": "markdown",
   "id": "57ecd88e",
   "metadata": {},
   "source": [
    "# Исследование текущего уровня потребительской лояльности (NPS) среди клиентов из России"
   ]
  },
  {
   "cell_type": "markdown",
   "id": "65fe9217",
   "metadata": {},
   "source": [
    "Заказчик этого исследования — большая телекоммуникационная компания, которая оказывает услуги на территории всего СНГ. Перед компанией стоит задача определить текущий уровень потребительской лояльности, или NPS (от англ. Net Promoter Score), среди клиентов из России. "
   ]
  },
  {
   "cell_type": "markdown",
   "id": "41d76431",
   "metadata": {},
   "source": [
    "**Цель исследования** - построить дашборд, позволяющий  определить текущий уровень потребительской лояльности, или NPS, среди различных клиентов из России. \n",
    "\n",
    "**Задачами исследования** являются ответы на следующие вопросы:\n",
    "- Как распределены участники опроса по возрасту, полу и возрасту? Каких пользователей больше: новых или старых? Пользователи из каких городов активнее участвовали в опросе?\n",
    "- Какие группы пользователей наиболее лояльны к сервису? Какие менее?\n",
    "- Какой общий NPS среди всех опрошенных?\n",
    "- Как можно описать клиентов, которые относятся к группе сторонников?\n"
   ]
  },
  {
   "cell_type": "code",
   "execution_count": 1,
   "id": "88075627",
   "metadata": {
    "tags": [
     "aa81075c-062f-4de0-b5fe-14c73dc7468e"
    ]
   },
   "outputs": [],
   "source": [
    "import pandas as pd\n",
    "import numpy as np\n",
    "from sqlalchemy import create_engine"
   ]
  },
  {
   "cell_type": "code",
   "execution_count": 2,
   "id": "31178be1",
   "metadata": {},
   "outputs": [],
   "source": [
    "path_to_db = 'telecomm_csi.db'\n",
    "engine = create_engine(f'sqlite:///{path_to_db}', echo = False)\n"
   ]
  },
  {
   "cell_type": "code",
   "execution_count": 3,
   "id": "b20568c3",
   "metadata": {},
   "outputs": [],
   "source": [
    "query = \"\"\"\n",
    "SELECT u.user_id, u.lt_day,\n",
    "    CASE \n",
    "        WHEN lt_day < 365 THEN 'True'\n",
    "        ELSE 'False' END AS is_new,\n",
    "    u.age,\n",
    "    CASE \n",
    "        WHEN u.gender_segment = 0 THEN 'мужчина'\n",
    "        ELSE 'женщина' END AS gender_segment,\n",
    "    u.os_name, u.cpe_type_name, l.country, l.city, SUBSTR(ags.title,3) as age_segment, SUBSTR(ts.title,3) as traffic_segment,\n",
    "    SUBSTR(ls.title,3) as lifetime_segment, u.nps_score,\n",
    "    CASE \n",
    "        WHEN u.nps_score <= 6 THEN 'критики'\n",
    "        WHEN u.nps_score <= 8 THEN 'нейтралы'\n",
    "        ELSE 'cторонники' END AS nps_group\n",
    "FROM user AS u\n",
    "LEFT JOIN location l ON u.location_id = l.location_id\n",
    "LEFT JOIN age_segment ags ON u.age_gr_id = ags.age_gr_id\n",
    "LEFT JOIN traffic_segment ts ON u.tr_gr_id = ts.tr_gr_id\n",
    "LEFT JOIN lifetime_segment ls ON u.lt_gr_id = ls.lt_gr_id\n",
    "WHERE (u.age IS NOT NULL) AND (u.gender_segment IS NOT NULL)\n",
    "\"\"\"\n",
    "\n",
    "#Так как в столбце `gender_segment`и `age` были обнаружены пропуски, стоит их убрать в запросе"
   ]
  },
  {
   "cell_type": "code",
   "execution_count": 4,
   "id": "cf389693",
   "metadata": {},
   "outputs": [
    {
     "data": {
      "text/html": [
       "<div>\n",
       "<style scoped>\n",
       "    .dataframe tbody tr th:only-of-type {\n",
       "        vertical-align: middle;\n",
       "    }\n",
       "\n",
       "    .dataframe tbody tr th {\n",
       "        vertical-align: top;\n",
       "    }\n",
       "\n",
       "    .dataframe thead th {\n",
       "        text-align: right;\n",
       "    }\n",
       "</style>\n",
       "<table border=\"1\" class=\"dataframe\">\n",
       "  <thead>\n",
       "    <tr style=\"text-align: right;\">\n",
       "      <th></th>\n",
       "      <th>user_id</th>\n",
       "      <th>lt_day</th>\n",
       "      <th>is_new</th>\n",
       "      <th>age</th>\n",
       "      <th>gender_segment</th>\n",
       "      <th>os_name</th>\n",
       "      <th>cpe_type_name</th>\n",
       "      <th>country</th>\n",
       "      <th>city</th>\n",
       "      <th>age_segment</th>\n",
       "      <th>traffic_segment</th>\n",
       "      <th>lifetime_segment</th>\n",
       "      <th>nps_score</th>\n",
       "      <th>nps_group</th>\n",
       "    </tr>\n",
       "  </thead>\n",
       "  <tbody>\n",
       "    <tr>\n",
       "      <th>0</th>\n",
       "      <td>A001A2</td>\n",
       "      <td>2320</td>\n",
       "      <td>False</td>\n",
       "      <td>45.0</td>\n",
       "      <td>женщина</td>\n",
       "      <td>ANDROID</td>\n",
       "      <td>SMARTPHONE</td>\n",
       "      <td>Россия</td>\n",
       "      <td>Уфа</td>\n",
       "      <td>45-54</td>\n",
       "      <td>1-5</td>\n",
       "      <td>36+</td>\n",
       "      <td>10</td>\n",
       "      <td>cторонники</td>\n",
       "    </tr>\n",
       "    <tr>\n",
       "      <th>1</th>\n",
       "      <td>A001WF</td>\n",
       "      <td>2344</td>\n",
       "      <td>False</td>\n",
       "      <td>53.0</td>\n",
       "      <td>мужчина</td>\n",
       "      <td>ANDROID</td>\n",
       "      <td>SMARTPHONE</td>\n",
       "      <td>Россия</td>\n",
       "      <td>Киров</td>\n",
       "      <td>45-54</td>\n",
       "      <td>1-5</td>\n",
       "      <td>36+</td>\n",
       "      <td>10</td>\n",
       "      <td>cторонники</td>\n",
       "    </tr>\n",
       "    <tr>\n",
       "      <th>2</th>\n",
       "      <td>A003Q7</td>\n",
       "      <td>467</td>\n",
       "      <td>False</td>\n",
       "      <td>57.0</td>\n",
       "      <td>мужчина</td>\n",
       "      <td>ANDROID</td>\n",
       "      <td>SMARTPHONE</td>\n",
       "      <td>Россия</td>\n",
       "      <td>Москва</td>\n",
       "      <td>55-64</td>\n",
       "      <td>20-25</td>\n",
       "      <td>13-24</td>\n",
       "      <td>10</td>\n",
       "      <td>cторонники</td>\n",
       "    </tr>\n",
       "    <tr>\n",
       "      <th>3</th>\n",
       "      <td>A004TB</td>\n",
       "      <td>4190</td>\n",
       "      <td>False</td>\n",
       "      <td>44.0</td>\n",
       "      <td>женщина</td>\n",
       "      <td>IOS</td>\n",
       "      <td>SMARTPHONE</td>\n",
       "      <td>Россия</td>\n",
       "      <td>РостовнаДону</td>\n",
       "      <td>35-44</td>\n",
       "      <td>0.1-1</td>\n",
       "      <td>36+</td>\n",
       "      <td>10</td>\n",
       "      <td>cторонники</td>\n",
       "    </tr>\n",
       "    <tr>\n",
       "      <th>4</th>\n",
       "      <td>A004XT</td>\n",
       "      <td>1163</td>\n",
       "      <td>False</td>\n",
       "      <td>24.0</td>\n",
       "      <td>мужчина</td>\n",
       "      <td>ANDROID</td>\n",
       "      <td>SMARTPHONE</td>\n",
       "      <td>Россия</td>\n",
       "      <td>Рязань</td>\n",
       "      <td>16-24</td>\n",
       "      <td>5-10</td>\n",
       "      <td>36+</td>\n",
       "      <td>10</td>\n",
       "      <td>cторонники</td>\n",
       "    </tr>\n",
       "  </tbody>\n",
       "</table>\n",
       "</div>"
      ],
      "text/plain": [
       "  user_id  lt_day is_new   age gender_segment  os_name cpe_type_name country  \\\n",
       "0  A001A2    2320  False  45.0        женщина  ANDROID    SMARTPHONE  Россия   \n",
       "1  A001WF    2344  False  53.0        мужчина  ANDROID    SMARTPHONE  Россия   \n",
       "2  A003Q7     467  False  57.0        мужчина  ANDROID    SMARTPHONE  Россия   \n",
       "3  A004TB    4190  False  44.0        женщина      IOS    SMARTPHONE  Россия   \n",
       "4  A004XT    1163  False  24.0        мужчина  ANDROID    SMARTPHONE  Россия   \n",
       "\n",
       "           city age_segment traffic_segment lifetime_segment  nps_score  \\\n",
       "0           Уфа       45-54             1-5              36+         10   \n",
       "1         Киров       45-54             1-5              36+         10   \n",
       "2        Москва       55-64           20-25            13-24         10   \n",
       "3  РостовнаДону       35-44           0.1-1              36+         10   \n",
       "4        Рязань       16-24            5-10              36+         10   \n",
       "\n",
       "    nps_group  \n",
       "0  cторонники  \n",
       "1  cторонники  \n",
       "2  cторонники  \n",
       "3  cторонники  \n",
       "4  cторонники  "
      ]
     },
     "execution_count": 4,
     "metadata": {},
     "output_type": "execute_result"
    }
   ],
   "source": [
    "df = pd.read_sql(query, engine)\n",
    "df.head()"
   ]
  },
  {
   "cell_type": "code",
   "execution_count": 5,
   "id": "7869489c",
   "metadata": {},
   "outputs": [],
   "source": [
    "df.to_csv('telecomm_csi_tableau.csv', index=False)"
   ]
  },
  {
   "cell_type": "markdown",
   "id": "2b99e052",
   "metadata": {},
   "source": [
    "# Выводы:\n",
    "1. Среди участников опроса превалируют старые клиенты женского пола из Москвы, СПБ, Новосибирска и Екатеринбурга, в возрасте от 25 до 44 лет\n",
    "2. Более половины опрошенных лояльны к сервису (52,6%). Общий уровень потребительской лояльности (NPS) составляет около 22%\n",
    "3. Наиболее лояльными к сервису являются новые клиенты, их NPS во всех возрастных сегментах выше, чем у старых клиентов. Лица старших возрастов (от 55 лет и старше) больше всего лояльны к компании. Среди старых клиентов в возрасте до 24 лет NPS отрицательный. Наибольший уровень потребительской лояльности наблюдается в городах Иваново, Череповец и Саранск\n",
    "4. Среди сторонников превалируют старые клиенты женского пола из Москвы, СПБ, Новосибирска и Казани, в возрасте от 25 до 44 лет. \n"
   ]
  },
  {
   "cell_type": "markdown",
   "id": "4b190819",
   "metadata": {},
   "source": [
    "### Cсылка на дашборд на сайте Tableau Public:"
   ]
  },
  {
   "cell_type": "markdown",
   "id": "a13ff786",
   "metadata": {},
   "source": [
    "https://public.tableau.com/app/profile/.71623239/viz/2_16712777917320/NPS?publish=yes"
   ]
  },
  {
   "cell_type": "markdown",
   "id": "70211267",
   "metadata": {},
   "source": [
    "### Ссылка на pdf-файл с презентацией:"
   ]
  },
  {
   "cell_type": "markdown",
   "id": "9518951e",
   "metadata": {},
   "source": [
    "https://www.dropbox.com/s/2fnz8m7l0tcnj8y/%D0%A1%D0%B1%D0%BE%D1%80%D0%BD%D1%8B%D0%B9%20%D0%BF%D1%80%D0%BE%D0%B5%D0%BA%D1%82%202.pdf?dl=0"
   ]
  }
 ],
 "metadata": {
  "ExecuteTimeLog": [
   {
    "duration": 752,
    "start_time": "2021-10-03T17:40:52.731Z"
   },
   {
    "duration": 20,
    "start_time": "2021-10-03T17:40:53.486Z"
   },
   {
    "duration": 4,
    "start_time": "2021-10-03T17:41:04.638Z"
   },
   {
    "duration": 461,
    "start_time": "2021-10-03T17:41:04.912Z"
   },
   {
    "duration": 284,
    "start_time": "2021-10-03T17:41:05.376Z"
   },
   {
    "duration": 574,
    "start_time": "2021-10-06T07:55:05.029Z"
   },
   {
    "duration": 6,
    "start_time": "2021-10-06T07:55:05.605Z"
   },
   {
    "duration": 3,
    "start_time": "2021-10-06T07:55:14.685Z"
   },
   {
    "duration": 406,
    "start_time": "2021-10-06T07:55:15.522Z"
   },
   {
    "duration": 67,
    "start_time": "2021-10-06T07:55:15.929Z"
   },
   {
    "duration": 840,
    "start_time": "2021-10-07T07:54:04.647Z"
   },
   {
    "duration": 10,
    "start_time": "2021-10-07T07:54:05.490Z"
   },
   {
    "duration": 4,
    "start_time": "2021-10-07T07:54:05.544Z"
   },
   {
    "duration": 391,
    "start_time": "2021-10-07T07:54:06.237Z"
   },
   {
    "duration": 293,
    "start_time": "2021-10-07T07:54:06.654Z"
   },
   {
    "duration": 490,
    "start_time": "2022-12-06T16:00:58.656Z"
   },
   {
    "duration": 12,
    "start_time": "2022-12-06T16:01:00.522Z"
   },
   {
    "duration": 4,
    "start_time": "2022-12-06T16:01:08.706Z"
   },
   {
    "duration": 545,
    "start_time": "2022-12-06T16:01:10.483Z"
   },
   {
    "duration": 3,
    "start_time": "2022-12-06T16:07:44.347Z"
   },
   {
    "duration": 2955,
    "start_time": "2022-12-06T16:07:47.226Z"
   },
   {
    "duration": 3,
    "start_time": "2022-12-06T16:10:20.494Z"
   },
   {
    "duration": 656,
    "start_time": "2022-12-06T16:10:22.818Z"
   },
   {
    "duration": 2,
    "start_time": "2022-12-06T16:11:18.153Z"
   },
   {
    "duration": 471,
    "start_time": "2022-12-06T16:11:19.780Z"
   },
   {
    "duration": 2,
    "start_time": "2022-12-06T16:12:14.959Z"
   },
   {
    "duration": 445,
    "start_time": "2022-12-06T16:12:17.398Z"
   },
   {
    "duration": 2,
    "start_time": "2022-12-06T16:12:32.345Z"
   },
   {
    "duration": 436,
    "start_time": "2022-12-06T16:12:38.387Z"
   },
   {
    "duration": 3,
    "start_time": "2022-12-06T16:12:48.616Z"
   },
   {
    "duration": 424,
    "start_time": "2022-12-06T16:12:50.811Z"
   },
   {
    "duration": 2,
    "start_time": "2022-12-06T16:14:24.638Z"
   },
   {
    "duration": 4089,
    "start_time": "2022-12-06T16:14:25.994Z"
   },
   {
    "duration": 2,
    "start_time": "2022-12-06T16:18:29.433Z"
   },
   {
    "duration": 470,
    "start_time": "2022-12-06T16:18:30.880Z"
   },
   {
    "duration": 3,
    "start_time": "2022-12-06T16:18:51.670Z"
   },
   {
    "duration": 454,
    "start_time": "2022-12-06T16:18:54.046Z"
   },
   {
    "duration": 2,
    "start_time": "2022-12-06T16:20:40.130Z"
   },
   {
    "duration": 1510,
    "start_time": "2022-12-06T16:20:42.276Z"
   },
   {
    "duration": 3,
    "start_time": "2022-12-06T16:20:49.188Z"
   },
   {
    "duration": 2,
    "start_time": "2022-12-06T16:20:52.367Z"
   },
   {
    "duration": 4206,
    "start_time": "2022-12-06T16:20:54.526Z"
   },
   {
    "duration": 2,
    "start_time": "2022-12-06T16:23:39.905Z"
   },
   {
    "duration": 1437,
    "start_time": "2022-12-06T16:23:42.532Z"
   },
   {
    "duration": 3,
    "start_time": "2022-12-06T16:24:04.241Z"
   },
   {
    "duration": 524,
    "start_time": "2022-12-06T16:24:06.122Z"
   },
   {
    "duration": 2,
    "start_time": "2022-12-06T16:24:32.800Z"
   },
   {
    "duration": 519,
    "start_time": "2022-12-06T16:24:34.584Z"
   },
   {
    "duration": 2,
    "start_time": "2022-12-06T16:24:43.864Z"
   },
   {
    "duration": 1413,
    "start_time": "2022-12-06T16:24:46.036Z"
   },
   {
    "duration": 2,
    "start_time": "2022-12-06T16:25:03.872Z"
   },
   {
    "duration": 1816,
    "start_time": "2022-12-06T16:25:05.526Z"
   },
   {
    "duration": 3,
    "start_time": "2022-12-06T16:27:31.587Z"
   },
   {
    "duration": 2105,
    "start_time": "2022-12-06T16:27:33.002Z"
   },
   {
    "duration": 2,
    "start_time": "2022-12-06T16:40:59.776Z"
   },
   {
    "duration": 444,
    "start_time": "2022-12-06T16:41:01.311Z"
   },
   {
    "duration": 3,
    "start_time": "2022-12-06T16:42:48.996Z"
   },
   {
    "duration": 2255,
    "start_time": "2022-12-06T16:42:51.508Z"
   },
   {
    "duration": 3,
    "start_time": "2022-12-06T16:48:05.989Z"
   },
   {
    "duration": 4376,
    "start_time": "2022-12-06T16:48:08.034Z"
   },
   {
    "duration": 2,
    "start_time": "2022-12-06T16:49:44.204Z"
   },
   {
    "duration": 4364,
    "start_time": "2022-12-06T16:49:45.658Z"
   },
   {
    "duration": 3,
    "start_time": "2022-12-06T16:54:48.246Z"
   },
   {
    "duration": 4916,
    "start_time": "2022-12-06T16:54:53.407Z"
   },
   {
    "duration": 4326,
    "start_time": "2022-12-06T16:57:02.226Z"
   },
   {
    "duration": 3866,
    "start_time": "2022-12-06T16:58:26.095Z"
   },
   {
    "duration": 508,
    "start_time": "2022-12-16T08:35:54.291Z"
   },
   {
    "duration": 10,
    "start_time": "2022-12-16T08:35:54.801Z"
   },
   {
    "duration": 5,
    "start_time": "2022-12-16T08:35:54.813Z"
   },
   {
    "duration": 17,
    "start_time": "2022-12-16T08:35:54.828Z"
   },
   {
    "duration": 6160,
    "start_time": "2022-12-16T08:35:54.847Z"
   },
   {
    "duration": 4539,
    "start_time": "2022-12-16T08:36:01.008Z"
   },
   {
    "duration": 3,
    "start_time": "2022-12-16T08:36:50.164Z"
   },
   {
    "duration": 6227,
    "start_time": "2022-12-16T08:36:52.622Z"
   },
   {
    "duration": 5365,
    "start_time": "2022-12-16T08:38:59.695Z"
   },
   {
    "duration": 3,
    "start_time": "2022-12-16T08:40:11.894Z"
   },
   {
    "duration": 4938,
    "start_time": "2022-12-16T08:40:13.696Z"
   },
   {
    "duration": 3,
    "start_time": "2022-12-16T08:40:59.953Z"
   },
   {
    "duration": 5305,
    "start_time": "2022-12-16T08:41:01.781Z"
   },
   {
    "duration": 4463,
    "start_time": "2022-12-16T08:41:16.946Z"
   },
   {
    "duration": 583,
    "start_time": "2022-12-17T05:52:44.943Z"
   },
   {
    "duration": 21,
    "start_time": "2022-12-17T05:52:45.528Z"
   },
   {
    "duration": 3,
    "start_time": "2022-12-17T05:52:45.551Z"
   },
   {
    "duration": 5984,
    "start_time": "2022-12-17T05:52:45.557Z"
   },
   {
    "duration": 4620,
    "start_time": "2022-12-17T05:52:51.550Z"
   },
   {
    "duration": 482,
    "start_time": "2022-12-17T08:23:33.437Z"
   },
   {
    "duration": 26,
    "start_time": "2022-12-17T08:23:34.976Z"
   },
   {
    "duration": 65,
    "start_time": "2022-12-17T08:24:37.871Z"
   },
   {
    "duration": 3,
    "start_time": "2022-12-17T08:24:41.291Z"
   },
   {
    "duration": 5903,
    "start_time": "2022-12-17T08:24:43.631Z"
   },
   {
    "duration": 3,
    "start_time": "2022-12-17T08:25:11.690Z"
   },
   {
    "duration": 5771,
    "start_time": "2022-12-17T08:25:13.509Z"
   },
   {
    "duration": 3,
    "start_time": "2022-12-17T08:25:33.633Z"
   },
   {
    "duration": 5244,
    "start_time": "2022-12-17T08:25:36.714Z"
   },
   {
    "duration": 7,
    "start_time": "2022-12-17T08:26:06.351Z"
   },
   {
    "duration": 2,
    "start_time": "2022-12-17T08:26:09.398Z"
   },
   {
    "duration": 4645,
    "start_time": "2022-12-17T08:26:10.967Z"
   },
   {
    "duration": 9,
    "start_time": "2022-12-17T08:26:28.253Z"
   },
   {
    "duration": 10,
    "start_time": "2022-12-17T08:26:41.529Z"
   },
   {
    "duration": 5525,
    "start_time": "2022-12-17T08:26:52.524Z"
   },
   {
    "duration": 5661,
    "start_time": "2022-12-17T08:27:13.843Z"
   },
   {
    "duration": 4,
    "start_time": "2022-12-17T08:28:29.401Z"
   },
   {
    "duration": 386,
    "start_time": "2022-12-17T08:28:31.685Z"
   },
   {
    "duration": 3,
    "start_time": "2022-12-17T08:29:03.504Z"
   },
   {
    "duration": 389,
    "start_time": "2022-12-17T08:29:09.643Z"
   },
   {
    "duration": 3,
    "start_time": "2022-12-17T08:30:13.316Z"
   },
   {
    "duration": 5326,
    "start_time": "2022-12-17T08:30:14.908Z"
   },
   {
    "duration": 6262,
    "start_time": "2022-12-17T08:30:29.472Z"
   },
   {
    "duration": 3,
    "start_time": "2022-12-17T08:31:09.343Z"
   },
   {
    "duration": 5823,
    "start_time": "2022-12-17T08:31:11.700Z"
   },
   {
    "duration": 3,
    "start_time": "2022-12-17T08:31:38.406Z"
   },
   {
    "duration": 5922,
    "start_time": "2022-12-17T08:31:40.967Z"
   },
   {
    "duration": 3,
    "start_time": "2022-12-17T08:32:02.503Z"
   },
   {
    "duration": 6003,
    "start_time": "2022-12-17T08:32:04.584Z"
   },
   {
    "duration": 2,
    "start_time": "2022-12-17T08:32:56.771Z"
   },
   {
    "duration": 5771,
    "start_time": "2022-12-17T08:32:58.796Z"
   },
   {
    "duration": 3,
    "start_time": "2022-12-17T08:34:04.672Z"
   },
   {
    "duration": 3549,
    "start_time": "2022-12-17T08:34:07.421Z"
   },
   {
    "duration": 3,
    "start_time": "2022-12-17T08:34:15.704Z"
   },
   {
    "duration": 5907,
    "start_time": "2022-12-17T08:34:17.626Z"
   },
   {
    "duration": 4,
    "start_time": "2022-12-17T08:34:56.656Z"
   },
   {
    "duration": 5598,
    "start_time": "2022-12-17T08:34:58.746Z"
   },
   {
    "duration": 9,
    "start_time": "2022-12-17T08:35:07.659Z"
   },
   {
    "duration": 3,
    "start_time": "2022-12-17T08:35:24.768Z"
   },
   {
    "duration": 5650,
    "start_time": "2022-12-17T08:35:26.126Z"
   },
   {
    "duration": 3,
    "start_time": "2022-12-17T08:35:34.731Z"
   },
   {
    "duration": 5877,
    "start_time": "2022-12-17T08:35:38.255Z"
   },
   {
    "duration": 3,
    "start_time": "2022-12-17T08:36:07.750Z"
   },
   {
    "duration": 6056,
    "start_time": "2022-12-17T08:36:09.714Z"
   },
   {
    "duration": 3,
    "start_time": "2022-12-17T08:37:01.960Z"
   },
   {
    "duration": 5738,
    "start_time": "2022-12-17T08:37:03.951Z"
   },
   {
    "duration": 3,
    "start_time": "2022-12-17T08:43:51.019Z"
   },
   {
    "duration": 5676,
    "start_time": "2022-12-17T08:43:52.768Z"
   },
   {
    "duration": 2,
    "start_time": "2022-12-17T08:44:12.249Z"
   },
   {
    "duration": 5926,
    "start_time": "2022-12-17T08:44:16.832Z"
   },
   {
    "duration": 3,
    "start_time": "2022-12-17T08:44:43.528Z"
   },
   {
    "duration": 5434,
    "start_time": "2022-12-17T08:44:47.217Z"
   },
   {
    "duration": 3,
    "start_time": "2022-12-17T08:45:11.886Z"
   },
   {
    "duration": 2,
    "start_time": "2022-12-17T08:45:23.438Z"
   },
   {
    "duration": 5681,
    "start_time": "2022-12-17T08:45:26.006Z"
   },
   {
    "duration": 3,
    "start_time": "2022-12-17T08:45:58.700Z"
   },
   {
    "duration": 6006,
    "start_time": "2022-12-17T08:46:01.392Z"
   },
   {
    "duration": 5659,
    "start_time": "2022-12-17T08:47:50.818Z"
   },
   {
    "duration": 3967,
    "start_time": "2022-12-17T08:52:14.561Z"
   },
   {
    "duration": 572,
    "start_time": "2022-12-17T12:48:56.367Z"
   },
   {
    "duration": 14,
    "start_time": "2022-12-17T12:48:56.941Z"
   },
   {
    "duration": 17,
    "start_time": "2022-12-17T12:48:56.956Z"
   },
   {
    "duration": 5794,
    "start_time": "2022-12-17T12:48:56.976Z"
   },
   {
    "duration": 4407,
    "start_time": "2022-12-17T12:49:02.772Z"
   },
   {
    "duration": 603,
    "start_time": "2023-03-18T13:09:35.612Z"
   },
   {
    "duration": 10,
    "start_time": "2023-03-18T13:09:37.245Z"
   },
   {
    "duration": 4,
    "start_time": "2023-03-18T13:09:39.715Z"
   },
   {
    "duration": 7102,
    "start_time": "2023-03-18T13:09:47.816Z"
   }
  ],
  "kernelspec": {
   "display_name": "Python 3 (ipykernel)",
   "language": "python",
   "name": "python3"
  },
  "language_info": {
   "codemirror_mode": {
    "name": "ipython",
    "version": 3
   },
   "file_extension": ".py",
   "mimetype": "text/x-python",
   "name": "python",
   "nbconvert_exporter": "python",
   "pygments_lexer": "ipython3",
   "version": "3.9.13"
  },
  "toc": {
   "base_numbering": 1,
   "nav_menu": {},
   "number_sections": true,
   "sideBar": true,
   "skip_h1_title": true,
   "title_cell": "Table of Contents",
   "title_sidebar": "Contents",
   "toc_cell": false,
   "toc_position": {},
   "toc_section_display": true,
   "toc_window_display": false
  }
 },
 "nbformat": 4,
 "nbformat_minor": 5
}
